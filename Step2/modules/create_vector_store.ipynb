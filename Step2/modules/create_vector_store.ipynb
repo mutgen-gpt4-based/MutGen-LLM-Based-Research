{
 "cells": [
  {
   "cell_type": "code",
   "execution_count": null,
   "id": "1034b45b",
   "metadata": {},
   "outputs": [],
   "source": [
    "import sys\n",
    "sys.path.append(\"../\")\n",
    "\n",
    "from langchain_openai.embeddings import OpenAIEmbeddings\n",
    "from langchain_community.vectorstores.faiss import FAISS\n",
    "from langchain_core.documents import Document\n",
    "\n",
    "from pathlib import Path\n",
    "from dotenv import load_dotenv, find_dotenv\n",
    "import pandas as pd\n",
    "import os\n",
    "\n",
    "from langchain.schema import Document\n",
    "from typing import List"
   ]
  },
  {
   "cell_type": "code",
   "execution_count": null,
   "id": "50adde6f",
   "metadata": {},
   "outputs": [],
   "source": [
    "_ = load_dotenv(find_dotenv())\n",
    "embedding_model = OpenAIEmbeddings(model=\"text-embedding-3-large\")\n",
    "cluster_number = 1\n"
   ]
  },
  {
   "cell_type": "code",
   "execution_count": null,
   "id": "9affd1ce",
   "metadata": {},
   "outputs": [],
   "source": [
    "def create_documents_from_csv(path_to_file: str) -> List[Document]:\n",
    "    \"\"\"\n",
    "    Lê um arquivo de texto, tratando cada linha como um documento separado\n",
    "    para a vector store.\n",
    "    \"\"\"\n",
    "    loaded_docs = []\n",
    "\n",
    "    df = pd.read_csv(path_to_file)\n",
    "    \n",
    "    for _, row in df.iterrows():\n",
    "        page_content = row.fixed\n",
    "        metadata = {\n",
    "            \"source\": path_to_file,\n",
    "            \"line_number\": row.line_id_tp_dataset ,\n",
    "            \"buggy_train_version\": row.buggy,\n",
    "            \"gumtree_diff\": row.baseline_ast_gumtree\n",
    "        }\n",
    "            \n",
    "        doc = Document(page_content=page_content, metadata=metadata)\n",
    "        loaded_docs.append(doc)\n",
    "    \n",
    "    return loaded_docs\n",
    "\n",
    "\n",
    "def vector_store_gen(loaded_docs):\n",
    "    vector_store = FAISS.from_documents(documents=loaded_docs, embedding=embedding_model)\n",
    "    return vector_store"
   ]
  },
  {
   "cell_type": "code",
   "execution_count": null,
   "id": "07dc8653",
   "metadata": {},
   "outputs": [],
   "source": [
    "initial_cluster_path = \"../dataset_train/train_ast_cluster/C1/clean_train_dataset_C1.csv\"\n",
    "docs = create_documents_from_csv(initial_cluster_path)\n",
    "complete_vector_store = vector_store_gen(docs)\n",
    "\n",
    "for cluster in range(2, 6):\n",
    "    cluster_path = f\"../dataset_train/train_ast_cluster/C{cluster}/clean_train_dataset_C{cluster}.csv\"\n",
    "    docs_each_cluster = create_documents_from_csv(cluster_path)\n",
    "    complete_vector_store.add_documents(docs_each_cluster)\n",
    "\n",
    "complete_vector_store.save_local(\"CleanTrainDataset\")"
   ]
  }
 ],
 "metadata": {
  "kernelspec": {
   "display_name": "Python 3",
   "language": "python",
   "name": "python3"
  },
  "language_info": {
   "codemirror_mode": {
    "name": "ipython",
    "version": 3
   },
   "file_extension": ".py",
   "mimetype": "text/x-python",
   "name": "python",
   "nbconvert_exporter": "python",
   "pygments_lexer": "ipython3",
   "version": "3.11.3"
  }
 },
 "nbformat": 4,
 "nbformat_minor": 5
}
