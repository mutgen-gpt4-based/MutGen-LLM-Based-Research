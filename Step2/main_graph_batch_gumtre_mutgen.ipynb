{
 "cells": [
  {
   "cell_type": "code",
   "execution_count": 1,
   "id": "1d7cb328",
   "metadata": {},
   "outputs": [],
   "source": [
    "from state.MainMutGenState import MainState, TpByAgent\n",
    "from langgraph.graph import START, StateGraph, END\n",
    "from langgraph.constants import Send\n",
    "from langchain_openai import ChatOpenAI\n",
    "from langchain_core.messages import HumanMessage, SystemMessage\n",
    "from modules.SemanticSearch import SemanticSearch\n",
    "\n",
    "from schemas.mutgen_output import MutationGenerated\n",
    "from prompts.MutgenAgentPrompt import MUTGEN_SYS, MUTATION_REQUEST\n",
    "\n",
    "import pandas as pd\n",
    "import time\n",
    "from typing import TypedDict\n",
    "from IPython.display import Image, display\n",
    "from dotenv import load_dotenv, find_dotenv\n",
    "import os "
   ]
  },
  {
   "cell_type": "code",
   "execution_count": 2,
   "id": "447b82c5",
   "metadata": {},
   "outputs": [
    {
     "name": "stdout",
     "output_type": "stream",
     "text": [
      "OpenAI API loaded.\n"
     ]
    }
   ],
   "source": [
    "_ = load_dotenv(find_dotenv())\n",
    "\n",
    "api_openai = os.getenv('OPENAI_API_KEY')\n",
    "if api_openai:\n",
    "    print('OpenAI API loaded.')\n",
    "else:\n",
    "    print('missing api key: OPEN_API_KEY')\n",
    "\n",
    "llm = ChatOpenAI(\n",
    "    model=\"gpt-4.1\",\n",
    "    temperature=0.0\n",
    "    )"
   ]
  },
  {
   "cell_type": "code",
   "execution_count": 3,
   "id": "84a48eb6",
   "metadata": {},
   "outputs": [],
   "source": [
    "retriever = SemanticSearch()\n",
    "MutGenAI = llm.with_structured_output(MutationGenerated)"
   ]
  },
  {
   "cell_type": "code",
   "execution_count": 4,
   "id": "33df5f80",
   "metadata": {},
   "outputs": [],
   "source": [
    "def process_data_cluster(state: MainState):\n",
    "    cluster_path = state[\"cluster_url\"]\n",
    "    cluster_id = state[\"cluster\"]\n",
    "    df = pd.read_csv(cluster_path)\n",
    "    list_obj_train_ref = retriever.collect_batch(df)\n",
    "    df[\"gumtree_train_ref\"] = list_obj_train_ref\n",
    "    print(\"Finalizado batch dos fixes!\")\n",
    "    try:\n",
    "        final_result_df = pd.read_csv(f\"results_{cluster_id}_from_attempt1.csv\")\n",
    "    except:\n",
    "        final_result_df = pd.DataFrame()\n",
    "    return {\"dataframe\": df, \"total_requests_from_df\": len(df), \"final_result_df\": final_result_df}\n",
    "    # return {\"dataframe\": df, \"total_requests_from_df\": 10, \"final_result_df\": final_result_df}"
   ]
  },
  {
   "cell_type": "code",
   "execution_count": 5,
   "id": "1f77bb87",
   "metadata": {},
   "outputs": [],
   "source": [
    "def split_data_process_for_batch(state: MainState):\n",
    "    if state[\"gpt_response\"]:\n",
    "        final_result_df = state[\"final_result_df\"]\n",
    "        cluster_id = state[\"cluster\"]\n",
    "        list_of_pydantic_objects = state[\"gpt_response\"]\n",
    "        results_as_dicts = [response.model_dump() for response in list_of_pydantic_objects]\n",
    "        results_df = pd.DataFrame(results_as_dicts)\n",
    "        updated_df = pd.concat([final_result_df, results_df], ignore_index=True)\n",
    "\n",
    "        output_path = f\"results_{cluster_id}_from_attempt1.csv\"\n",
    "        updated_df.to_csv(output_path, sep=',', index=False)\n",
    "\n",
    "    df = state[\"dataframe\"]\n",
    "    offset = state[\"current_offset\"]\n",
    "    size = 10\n",
    "    total_prompts = state[\"total_requests_from_df\"]\n",
    "    start_index = offset + size\n",
    "    limit_index = min(start_index, total_prompts)\n",
    "    \n",
    "    sliced_df = df.iloc[offset:limit_index]\n",
    "    print(f\"Leva de {offset} ate {start_index} do total de {total_prompts}\")\n",
    "    return {\n",
    "        \"sliced_for_batch\": sliced_df, \n",
    "        \"current_offset\": limit_index     \n",
    "        }"
   ]
  },
  {
   "cell_type": "code",
   "execution_count": 6,
   "id": "f7edfc8d",
   "metadata": {},
   "outputs": [],
   "source": [
    "def async_send_conditional(state: MainState):\n",
    "    async_list = []\n",
    "    df_sliced = state[\"sliced_for_batch\"]\n",
    "    for _, row in df_sliced.iterrows():\n",
    "        async_list.append(Send(\"Run MutGen\", {\"tp_request\": row}))\n",
    "    return async_list"
   ]
  },
  {
   "cell_type": "code",
   "execution_count": 7,
   "id": "0000ccef",
   "metadata": {},
   "outputs": [],
   "source": [
    "def mutgen_agent(state: MainState):\n",
    "    row_from_df = state[\"tp_request\"]\n",
    "    train_data_ref = row_from_df.gumtree_train_ref\n",
    "    fixed_train_data = train_data_ref[\"fixed_train\"]\n",
    "    buggy_train_data = train_data_ref[\"buggy_train\"]\n",
    "    mutation_operators = train_data_ref[\"gumtree_diff\"]\n",
    "    input_fixed_code = row_from_df.fixed\n",
    "    \n",
    "    mutation_generation_request = MUTATION_REQUEST.format(\n",
    "        ref_fixed_example = fixed_train_data,\n",
    "        mutation_operators_list = mutation_operators,\n",
    "        ref_buggy_example = buggy_train_data,\n",
    "        input_fixed_code = input_fixed_code)\n",
    "    mut_gen_dict = MutGenAI.invoke([SystemMessage(MUTGEN_SYS), HumanMessage(mutation_generation_request)])\n",
    "    mutant_generated = mut_gen_dict.mutant\n",
    "\n",
    "    final_response = TpByAgent(fixed_code = input_fixed_code, \n",
    "                               buggy_code = row_from_df.buggy, \n",
    "                               gumtree_baseline = mutation_operators, \n",
    "                               line_in_dataset = row_from_df.line_id_tp_dataset, \n",
    "                               mutant_version = mutant_generated)\n",
    "    return {\"gpt_response\": [final_response]}"
   ]
  },
  {
   "cell_type": "code",
   "execution_count": 8,
   "id": "c97ff515",
   "metadata": {},
   "outputs": [],
   "source": [
    "def loop_batch_conditional(state:MainState):\n",
    "    offset = state[\"current_offset\"]\n",
    "    total_requests = state[\"total_requests_from_df\"]\n",
    "    if offset >= total_requests:\n",
    "        return \"Save DF\"\n",
    "    return \"Batch Slicing\""
   ]
  },
  {
   "cell_type": "code",
   "execution_count": 9,
   "id": "cb87c103",
   "metadata": {},
   "outputs": [],
   "source": [
    "def save_dataframe(state: MainState):\n",
    "    \"\"\"\n",
    "    Pega a lista de objetos Pydantic do estado, converte para um DataFrame\n",
    "    e salva em um arquivo CSV.\n",
    "    \"\"\"\n",
    "    cluster_id = state[\"cluster\"]\n",
    "    list_of_pydantic_objects = state[\"gpt_response\"]\n",
    "\n",
    "    if not list_of_pydantic_objects:\n",
    "        print(\"Nenhum resultado para salvar.\")\n",
    "        return {}\n",
    "\n",
    "    final_result_df = state[\"final_result_df\"]\n",
    "    results_as_dicts = [response.model_dump() for response in list_of_pydantic_objects]\n",
    "    results_df = pd.DataFrame(results_as_dicts)\n",
    "    updated_df = pd.concat([final_result_df, results_df], ignore_index=True)\n",
    "\n",
    "    output_path = f\"results_{cluster_id}_from_attempt1.csv\"\n",
    "    updated_df.to_csv(output_path, sep=',', index=False)\n",
    "    \n",
    "    print(f\"Resultados salvos com sucesso em {output_path}\")\n",
    "\n",
    "    return {\"pd.DataFrame\": updated_df}"
   ]
  },
  {
   "cell_type": "code",
   "execution_count": 10,
   "id": "127713a0",
   "metadata": {},
   "outputs": [
    {
     "data": {
      "image/png": "[encoded data removed]",
      "text/plain": [
       "<IPython.core.display.Image object>"
      ]
     },
     "metadata": {},
     "output_type": "display_data"
    }
   ],
   "source": [
    "builder = StateGraph(MainState)\n",
    "\n",
    "builder.add_node(\"Load and Clean data\", process_data_cluster)\n",
    "builder.add_node(\"Batch Slicing\", split_data_process_for_batch)\n",
    "builder.add_node(\"Run MutGen\", mutgen_agent)\n",
    "builder.add_node(\"Save DF\", save_dataframe)\n",
    "\n",
    "builder.add_edge(START, \"Load and Clean data\")\n",
    "builder.add_edge(\"Load and Clean data\", \"Batch Slicing\")\n",
    "builder.add_conditional_edges(\"Batch Slicing\", async_send_conditional, [\"Run MutGen\"])\n",
    "\n",
    "builder.add_conditional_edges(\"Run MutGen\", \n",
    "                              loop_batch_conditional, \n",
    "                              {\n",
    "                                  \"Save DF\": \"Save DF\",\n",
    "                                  \"Batch Slicing\": \"Batch Slicing\"\n",
    "                              })\n",
    "builder.add_edge(\"Save DF\", END)\n",
    "\n",
    "graph_execute = builder.compile()\n",
    "display(Image(graph_execute.get_graph(xray=True).draw_mermaid_png()))"
   ]
  },
  {
   "cell_type": "code",
   "execution_count": 11,
   "id": "e978ff47",
   "metadata": {},
   "outputs": [
    {
     "name": "stdout",
     "output_type": "stream",
     "text": [
      "Finalizado batch dos fixes!\n",
      "Leva de 0 ate 10 do total de 803\n",
      "Leva de 10 ate 20 do total de 803\n",
      "Leva de 20 ate 30 do total de 803\n",
      "Leva de 30 ate 40 do total de 803\n",
      "Leva de 40 ate 50 do total de 803\n",
      "Leva de 50 ate 60 do total de 803\n",
      "Leva de 60 ate 70 do total de 803\n",
      "Leva de 70 ate 80 do total de 803\n",
      "Leva de 80 ate 90 do total de 803\n",
      "Leva de 90 ate 100 do total de 803\n",
      "Leva de 100 ate 110 do total de 803\n",
      "Leva de 110 ate 120 do total de 803\n",
      "Leva de 120 ate 130 do total de 803\n",
      "Leva de 130 ate 140 do total de 803\n",
      "Leva de 140 ate 150 do total de 803\n",
      "Leva de 150 ate 160 do total de 803\n",
      "Leva de 160 ate 170 do total de 803\n",
      "Leva de 170 ate 180 do total de 803\n",
      "Leva de 180 ate 190 do total de 803\n",
      "Leva de 190 ate 200 do total de 803\n",
      "Leva de 200 ate 210 do total de 803\n",
      "Leva de 210 ate 220 do total de 803\n",
      "Leva de 220 ate 230 do total de 803\n",
      "Leva de 230 ate 240 do total de 803\n",
      "Leva de 240 ate 250 do total de 803\n",
      "Leva de 250 ate 260 do total de 803\n",
      "Leva de 260 ate 270 do total de 803\n",
      "Leva de 270 ate 280 do total de 803\n",
      "Leva de 280 ate 290 do total de 803\n",
      "Leva de 290 ate 300 do total de 803\n",
      "Leva de 300 ate 310 do total de 803\n",
      "Leva de 310 ate 320 do total de 803\n",
      "Leva de 320 ate 330 do total de 803\n",
      "Leva de 330 ate 340 do total de 803\n",
      "Leva de 340 ate 350 do total de 803\n",
      "Leva de 350 ate 360 do total de 803\n",
      "Leva de 360 ate 370 do total de 803\n",
      "Leva de 370 ate 380 do total de 803\n",
      "Leva de 380 ate 390 do total de 803\n",
      "Leva de 390 ate 400 do total de 803\n",
      "Leva de 400 ate 410 do total de 803\n",
      "Leva de 410 ate 420 do total de 803\n",
      "Leva de 420 ate 430 do total de 803\n",
      "Leva de 430 ate 440 do total de 803\n",
      "Leva de 440 ate 450 do total de 803\n",
      "Leva de 450 ate 460 do total de 803\n",
      "Leva de 460 ate 470 do total de 803\n",
      "Leva de 470 ate 480 do total de 803\n",
      "Leva de 480 ate 490 do total de 803\n",
      "Leva de 490 ate 500 do total de 803\n",
      "Leva de 500 ate 510 do total de 803\n",
      "Leva de 510 ate 520 do total de 803\n",
      "Leva de 520 ate 530 do total de 803\n",
      "Leva de 530 ate 540 do total de 803\n",
      "Leva de 540 ate 550 do total de 803\n",
      "Leva de 550 ate 560 do total de 803\n",
      "Leva de 560 ate 570 do total de 803\n",
      "Leva de 570 ate 580 do total de 803\n",
      "Leva de 580 ate 590 do total de 803\n",
      "Leva de 590 ate 600 do total de 803\n",
      "Leva de 600 ate 610 do total de 803\n",
      "Leva de 610 ate 620 do total de 803\n",
      "Leva de 620 ate 630 do total de 803\n",
      "Leva de 630 ate 640 do total de 803\n",
      "Leva de 640 ate 650 do total de 803\n",
      "Leva de 650 ate 660 do total de 803\n",
      "Leva de 660 ate 670 do total de 803\n",
      "Leva de 670 ate 680 do total de 803\n",
      "Leva de 680 ate 690 do total de 803\n",
      "Leva de 690 ate 700 do total de 803\n",
      "Leva de 700 ate 710 do total de 803\n",
      "Leva de 710 ate 720 do total de 803\n",
      "Leva de 720 ate 730 do total de 803\n",
      "Leva de 730 ate 740 do total de 803\n",
      "Leva de 740 ate 750 do total de 803\n",
      "Leva de 750 ate 760 do total de 803\n",
      "Leva de 760 ate 770 do total de 803\n",
      "Leva de 770 ate 780 do total de 803\n",
      "Leva de 780 ate 790 do total de 803\n",
      "Leva de 790 ate 800 do total de 803\n",
      "Leva de 800 ate 810 do total de 803\n",
      "Resultados salvos com sucesso em results_C5_from_attempt1.csv\n",
      "tempo de inicio 548818.1151335, e tempo de final 549721.7535135\n"
     ]
    }
   ],
   "source": [
    "init_input = {\n",
    "    \"cluster\": \"C5\",\n",
    "    \"cluster_url\": \"datasets_csv/dataset_C5_clean.csv\",\n",
    "    \"current_offset\": 0 \n",
    "}\n",
    "\n",
    "config = {\"recursion_limit\": 2500}\n",
    "inicio = time.perf_counter()\n",
    "messages = graph_execute.invoke(init_input, config)\n",
    "final = time.perf_counter()\n",
    "\n",
    "print(f\"tempo de inicio {inicio}, e tempo de final {final}\")"
   ]
  },
  {
   "cell_type": "code",
   "execution_count": null,
   "id": "eeb45808",
   "metadata": {},
   "outputs": [],
   "source": []
  },
  {
   "cell_type": "code",
   "execution_count": null,
   "id": "87166bdc",
   "metadata": {},
   "outputs": [],
   "source": [
    "dataframe_train = messages[\"dataframe\"]\n"
   ]
  },
  {
   "cell_type": "code",
   "execution_count": null,
   "id": "922ec53a",
   "metadata": {},
   "outputs": [],
   "source": [
    "dataframe_train.iloc[0].gumtree_train_ref[\"fixed_train\"]"
   ]
  },
  {
   "cell_type": "code",
   "execution_count": null,
   "id": "31ead393",
   "metadata": {},
   "outputs": [],
   "source": [
    "df= pd.read_csv(\"results_C2_from_attempt1.csv\")"
   ]
  },
  {
   "cell_type": "code",
   "execution_count": null,
   "id": "78a29a44",
   "metadata": {},
   "outputs": [],
   "source": [
    "df"
   ]
  },
  {
   "cell_type": "code",
   "execution_count": null,
   "id": "cae26cf1",
   "metadata": {},
   "outputs": [],
   "source": [
    "i = 10\n",
    "fixed_input = df[\"fixed_code\"].iloc[i]\n",
    "train_fixed = dataframe_train.iloc[i].gumtree_train_ref[\"fixed_train\"]\n",
    "print(f\"Fixed_input: \\n {fixed_input}\")\n",
    "print(f\"TRAIN_fixed: \\n {train_fixed}\")"
   ]
  }
 ],
 "metadata": {
  "kernelspec": {
   "display_name": "_mutVenv",
   "language": "python",
   "name": "python3"
  },
  "language_info": {
   "codemirror_mode": {
    "name": "ipython",
    "version": 3
   },
   "file_extension": ".py",
   "mimetype": "text/x-python",
   "name": "python",
   "nbconvert_exporter": "python",
   "pygments_lexer": "ipython3",
   "version": "3.11.3"
  }
 },
 "nbformat": 4,
 "nbformat_minor": 5
}
