{
 "cells": [
  {
   "cell_type": "code",
   "execution_count": 1,
   "id": "c63b0523",
   "metadata": {},
   "outputs": [],
   "source": [
    "import pandas as pd"
   ]
  },
  {
   "cell_type": "code",
   "execution_count": 3,
   "id": "6df02323",
   "metadata": {},
   "outputs": [],
   "source": [
    "df =  pd.read_csv(\"dataset_C2_clean.csv\")"
   ]
  },
  {
   "cell_type": "code",
   "execution_count": 4,
   "id": "c413494a",
   "metadata": {},
   "outputs": [
    {
     "data": {
      "text/plain": [
       "fixed                   public TYPE_1 index ( ) { TYPE_1 VAR_1 = new T...\n",
       "buggy                   public java.lang.String index ( ) { return STR...\n",
       "baseline_ast_gumtree    ['Update TypeReference', 'Move FieldRead', 'De...\n",
       "line_id_tp_dataset                                                     21\n",
       "Name: 10, dtype: object"
      ]
     },
     "execution_count": 4,
     "metadata": {},
     "output_type": "execute_result"
    }
   ],
   "source": [
    "df.iloc[10]"
   ]
  },
  {
   "cell_type": "code",
   "execution_count": 10,
   "id": "c605e075",
   "metadata": {},
   "outputs": [
    {
     "name": "stdout",
     "output_type": "stream",
     "text": [
      "FIXED:  public boolean replace ( TYPE_1 key , TYPE_2 VAR_1 , TYPE_2 VAR_2 ) { java.lang.String k = VAR_3 . toString ( ) ; return VAR_4 . replace ( new TYPE_3 ( k , VAR_1 ) , new TYPE_3 ( k , VAR_2 ) ) ; }\n",
      "BUGGY:  public boolean replace ( TYPE_1 key , TYPE_2 VAR_1 , TYPE_2 VAR_2 ) { return VAR_4 . replace ( new TYPE_3 ( key , VAR_1 ) , new TYPE_3 ( key , VAR_2 ) ) ; }\n",
      "GUMTREE:  ['Update VariableRead', 'Update VariableRead', 'Delete TypeReference', 'Delete TypeAccess', 'Delete Invocation', 'Delete LocalVariable']\n"
     ]
    }
   ],
   "source": [
    "index = 151\n",
    "print(\"FIXED: \", df[\"fixed\"].iloc[index])\n",
    "print(\"BUGGY: \", df[\"buggy\"].iloc[index])\n",
    "print(\"GUMTREE: \", df[\"baseline_ast_gumtree\"].iloc[index])\n"
   ]
  },
  {
   "cell_type": "code",
   "execution_count": null,
   "id": "49863690",
   "metadata": {},
   "outputs": [],
   "source": []
  },
  {
   "cell_type": "code",
   "execution_count": null,
   "id": "27b23475",
   "metadata": {},
   "outputs": [],
   "source": []
  },
  {
   "cell_type": "code",
   "execution_count": null,
   "id": "2bf99e5b",
   "metadata": {},
   "outputs": [],
   "source": []
  }
 ],
 "metadata": {
  "kernelspec": {
   "display_name": "_mutVenv",
   "language": "python",
   "name": "python3"
  },
  "language_info": {
   "codemirror_mode": {
    "name": "ipython",
    "version": 3
   },
   "file_extension": ".py",
   "mimetype": "text/x-python",
   "name": "python",
   "nbconvert_exporter": "python",
   "pygments_lexer": "ipython3",
   "version": "3.11.3"
  }
 },
 "nbformat": 4,
 "nbformat_minor": 5
}
