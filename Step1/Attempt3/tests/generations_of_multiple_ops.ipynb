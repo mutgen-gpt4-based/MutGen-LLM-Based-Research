{
 "cells": [
  {
   "cell_type": "code",
   "execution_count": null,
   "id": "bebf67c2",
   "metadata": {},
   "outputs": [],
   "source": [
    "import pandas as pd\n",
    "import numpy as np"
   ]
  },
  {
   "cell_type": "code",
   "execution_count": null,
   "id": "5b1f4da3",
   "metadata": {},
   "outputs": [],
   "source": [
    "df = pd.read_csv(\"../datasets_csv/dataset_C1_clean.csv\")"
   ]
  },
  {
   "cell_type": "code",
   "execution_count": null,
   "id": "183ce285",
   "metadata": {},
   "outputs": [],
   "source": [
    "df.head(2)"
   ]
  },
  {
   "cell_type": "code",
   "execution_count": null,
   "id": "518a2fd2",
   "metadata": {},
   "outputs": [],
   "source": [
    "gumtree = list(df[\"baseline_ast_gumtree\"])"
   ]
  },
  {
   "cell_type": "code",
   "execution_count": null,
   "id": "9fbd4395",
   "metadata": {},
   "outputs": [],
   "source": [
    "example=gumtree[434]\n",
    "example"
   ]
  },
  {
   "cell_type": "code",
   "execution_count": null,
   "id": "96026280",
   "metadata": {},
   "outputs": [],
   "source": [
    "type(example.replace(\"'\", \"\")[1:-2].split(\",\"))"
   ]
  },
  {
   "cell_type": "code",
   "execution_count": null,
   "id": "5fecc0e4",
   "metadata": {},
   "outputs": [],
   "source": [
    "list_normalized = example.replace(\"'\", \"\")[1:-1].split(\", \")"
   ]
  },
  {
   "cell_type": "code",
   "execution_count": null,
   "id": "b530e95e",
   "metadata": {},
   "outputs": [],
   "source": [
    "all_nodes = []\n",
    "for mutop in list_normalized:\n",
    "    print(mutop)\n",
    "    input()\n",
    "    node = mutop.split(\" \")[1]\n",
    "    all_nodes.append(node)"
   ]
  },
  {
   "cell_type": "code",
   "execution_count": null,
   "id": "308ab13e",
   "metadata": {},
   "outputs": [],
   "source": [
    "all_nodes"
   ]
  },
  {
   "cell_type": "code",
   "execution_count": null,
   "id": "75546fbb",
   "metadata": {},
   "outputs": [],
   "source": [
    "np_subjects_dataset = np.array(all_nodes)\n",
    "valores_unicos, contagens = np.unique(np_subjects_dataset, return_counts=True)"
   ]
  },
  {
   "cell_type": "code",
   "execution_count": null,
   "id": "b6a66453",
   "metadata": {},
   "outputs": [],
   "source": [
    "valores_unicos"
   ]
  },
  {
   "cell_type": "code",
   "execution_count": null,
   "id": "d0a6830d",
   "metadata": {},
   "outputs": [],
   "source": []
  },
  {
   "cell_type": "code",
   "execution_count": null,
   "id": "bacaf2ec",
   "metadata": {},
   "outputs": [],
   "source": []
  },
  {
   "cell_type": "code",
   "execution_count": null,
   "id": "3f50cae1",
   "metadata": {},
   "outputs": [],
   "source": [
    "mut_op_file_df = pd.read_excel(\"../prompts/mut_op_java_file.xlsx\")"
   ]
  },
  {
   "cell_type": "code",
   "execution_count": null,
   "id": "ce5c6269",
   "metadata": {},
   "outputs": [],
   "source": [
    "mut_op_file_df"
   ]
  },
  {
   "cell_type": "code",
   "execution_count": null,
   "id": "774a7f15",
   "metadata": {},
   "outputs": [],
   "source": [
    "mut_op_file_df[\"java_node\"]"
   ]
  },
  {
   "cell_type": "code",
   "execution_count": null,
   "id": "0ea37f05",
   "metadata": {},
   "outputs": [],
   "source": [
    "uniques, _ = np.unique(mut_op_file_df[\"java_node\"], return_counts=True)"
   ]
  },
  {
   "cell_type": "code",
   "execution_count": null,
   "id": "f86fff67",
   "metadata": {},
   "outputs": [],
   "source": [
    "uniques"
   ]
  },
  {
   "cell_type": "code",
   "execution_count": null,
   "id": "e978a810",
   "metadata": {},
   "outputs": [],
   "source": [
    "len(uniques)"
   ]
  },
  {
   "cell_type": "code",
   "execution_count": null,
   "id": "701ecdb7",
   "metadata": {},
   "outputs": [],
   "source": [
    "if \"TypeAcce2ss\" in uniques:\n",
    "    print(True)"
   ]
  },
  {
   "cell_type": "code",
   "execution_count": null,
   "id": "d6a97e9b",
   "metadata": {},
   "outputs": [],
   "source": []
  },
  {
   "cell_type": "code",
   "execution_count": null,
   "id": "6e058c91",
   "metadata": {},
   "outputs": [],
   "source": [
    "uniques.tolist()"
   ]
  },
  {
   "cell_type": "code",
   "execution_count": null,
   "id": "068065f3",
   "metadata": {},
   "outputs": [],
   "source": []
  },
  {
   "cell_type": "code",
   "execution_count": 1,
   "id": "e129ec0c",
   "metadata": {},
   "outputs": [],
   "source": [
    "import sys\n",
    "sys.path.append(\"../\")\n",
    "import pandas as pd\n",
    "\n",
    "from prompts.PromptMaker import PromptBuilder"
   ]
  },
  {
   "cell_type": "code",
   "execution_count": null,
   "id": "b6daf3bc",
   "metadata": {},
   "outputs": [],
   "source": [
    "pb = "
   ]
  },
  {
   "cell_type": "code",
   "execution_count": null,
   "id": "c34e38d4",
   "metadata": {},
   "outputs": [],
   "source": [
    "print(pb.system_message[0].content)"
   ]
  },
  {
   "cell_type": "code",
   "execution_count": 3,
   "id": "c7a784ef",
   "metadata": {},
   "outputs": [],
   "source": [
    "df = pd.read_csv(\"../datasets_csv/dataset_C1_clean.csv\")"
   ]
  },
  {
   "cell_type": "code",
   "execution_count": 16,
   "id": "a0f3bfb9",
   "metadata": {},
   "outputs": [],
   "source": [
    "final_proimpt = pb.building_human_prompt(\n",
    "    CodeFix=df[\"fixed\"][2657],\n",
    "    BuggyCode=df[\"buggy\"][2657],\n",
    "    Gumtree=df[\"baseline_ast_gumtree\"][2657]\n",
    ")"
   ]
  },
  {
   "cell_type": "code",
   "execution_count": 17,
   "id": "e446798a",
   "metadata": {},
   "outputs": [
    {
     "name": "stdout",
     "output_type": "stream",
     "text": [
      "\n",
      "Here are the codes:\n",
      "\n",
      "<code_snippet_one>\n",
      "```java\n",
      "public void METHOD_1 ( android.view.View VAR_1 ) { if ( ( VAR_2 ) != null ) { VAR_2 . METHOD_2 ( true ) ; } if ( ( VAR_3 ) != null ) { VAR_3 . METHOD_3 ( VAR_4 ) ; } VAR_5 . setText ( VAR_6 ) ; }\n",
      "```\n",
      "</code_snippet_one>\n",
      "\n",
      "\n",
      "<code_snippet_two>\n",
      "```java\n",
      "public void METHOD_1 ( android.view.View VAR_1 ) { VAR_2 . METHOD_2 ( true ) ; }\n",
      "```\n",
      "</code_snippet_two>\n",
      "\n",
      "Provide the sequence list of modifications to transform code snippet one into code snippet two.\n",
      "Consider this ALLOWED_NODE_SET below composed by 18 java nodes.\n",
      "<ALLOWED_NODE_SET>\n",
      "['Assignment', 'BinaryOperator', 'Block', 'ConstructorCall', 'FieldRead', 'FieldWrite', 'If', 'Invocation', 'Literal', 'LocalVariable', 'Parameter', 'Return', 'ThisAccess', 'TypeAccess', 'TypeReference', 'UnaryOperator', 'VariableRead', 'Wra']\n",
      "</ALLOWED_NODE_SET>\n",
      "\n"
     ]
    }
   ],
   "source": [
    "print(final_proimpt[1].content)"
   ]
  },
  {
   "cell_type": "code",
   "execution_count": null,
   "id": "5c8558e4",
   "metadata": {},
   "outputs": [],
   "source": [
    "df[\"fixe\"][301]"
   ]
  },
  {
   "cell_type": "code",
   "execution_count": 15,
   "id": "ed88686f",
   "metadata": {},
   "outputs": [
    {
     "data": {
      "text/plain": [
       "\"['Move Invocation', 'Delete FieldRead', 'Delete Literal', 'Delete BinaryOperator', 'Delete Block', 'Delete If', 'Delete FieldRead', 'Delete Literal', 'Delete BinaryOperator', 'Delete TypeAccess', 'Delete TypeAccess', 'Delete Invocation', 'Delete Block', 'Delete If', 'Delete TypeAccess', 'Delete TypeAccess', 'Delete Invocation']\""
      ]
     },
     "execution_count": 15,
     "metadata": {},
     "output_type": "execute_result"
    }
   ],
   "source": [
    "df[\"baseline_ast_gumtree\"][2657]"
   ]
  },
  {
   "cell_type": "code",
   "execution_count": 18,
   "id": "c07b9b86",
   "metadata": {},
   "outputs": [
    {
     "data": {
      "text/plain": [
       "[SystemMessage(content='\\nYou are an expert in Abstract Syntax Tree (AST) analysis for the Java language. \\nYou will be provided with two artifacts: (1) a pair of code snippets (`snippet one`, the fixed version, and `snippet two`, the buggy version), and (2) a set of Java node types titled \"ALLOWED_NODE_SET\". \\nThese snippets are a processed representation of Java code where identifiers have been replaced with placeholders.\\n\\n<YOUR_TASK>\\nYour task is to identify the precise AST modifications required to transform `snippet one` into `snippet two`. \\nThe modifications fall into four categories: `Insert`, `Delete`, `Update`, or `Move`.\\n</YOUR_TASK>\\n\\n<IMPORTANT_RULES>\\n- You MUST associate each modification ONLY with a component type from the provided \"ALLOWED_NODE_SET\".\\n- A component type from the set can be used more than once if multiple modifications of the same type occurred. \\n- The \"ALLOWED_NODE_SET\" is a list of valid options; you are not required to use every component from this list.\\n- Your analysis must be based on the structural changes between the two snippets.\\n</IMPORTANT_RULES>\\n\\n<OUTPUT_FORMAT>\\n- Format your final answer as a single line, enclosed in square brackets.\\n- Each entry must follow the `<Operation> <ComponentType>` format.\\n- Format your final answer as a single line, enclosed in square brackets. Each entry must follow the `<Operation> <ComponentType>` format. Separate multiple entries with commas.\\n</OUTPUT_FORMAT>\\n\\nIf you are uncertain about the meaning of any component, consult this reference manual:\\n<REFERENCE_MANUAL>\\n* `Assignment` = An operation that assigns a value to a variable (e.g., `x = 10;`). \\n* `BinaryOperator` = An operator that takes two operands (e.g., `a + b`, `x > y`). \\n* `Block` = A sequence of (or just one) statements enclosed in curly braces (`{...}`). \\n* `ConstructorCall` = The creation of a new object instance (e.g., `new MyClass()`). \\n* `FieldRead` = Reading the value from an object\\'s field or attribute (e.g., `this.name`, `person.age`).\\n* `FieldWrite` = Writing a value to an object\\'s field or attribute (e.g., `this.name = \"new name\";`).\\n* `If` = A conditional `if` statement. \\n* `Invocation` = A method call, an invocation of a method (e.g., `myMethod()`, `myObject.doSomething()`, `System.out.println()`).\\n* `Literal` = A fixed value directly in the source code, such as and int, a string, etc (e.g., `\"hello\"`, `123`, `true`, `null`).\\n* `LocalVariable` = The declaration of a new variable inside a method (e.g., `int count = 0;`). \\n* `Parameter` = The declaration of a parameter in a method\\'s signature (e.g., `void setName(String Parameter)`).\\n* `Return` = A statement that returns control or a value from a method (e.g., `return;`, `return x;`).\\n* `ThisAccess` = The `this` keyword, used to refer to the current object instance.\\n* `TypeAccess` = Accessing a static member (field or method) of a class (e.g., `System.out`, `Math.max()`).\\n* `TypeReference` = A reference to a data type\\'s name (e.g., in a declaration `String s;` or a cast `(Integer) obj`).\\n* `UnaryOperator` = An operator that takes a single operand (e.g., `i++`, `!`).\\n* `VariableRead` = Reading the value from a local variable or parameter.\\n* `Wra` = A modifier in a method\\'s declaration that controls its visibility or behavior (e.g., `public`, `static`). \\n</REFERENCE_MANUAL>\\n', additional_kwargs={}, response_metadata={}),\n",
       " HumanMessage(content=\"\\nHere are the codes:\\n\\n<code_snippet_one>\\n```java\\npublic void METHOD_1 ( android.view.View VAR_1 ) { if ( ( VAR_2 ) != null ) { VAR_2 . METHOD_2 ( true ) ; } if ( ( VAR_3 ) != null ) { VAR_3 . METHOD_3 ( VAR_4 ) ; } VAR_5 . setText ( VAR_6 ) ; }\\n```\\n</code_snippet_one>\\n\\n\\n<code_snippet_two>\\n```java\\npublic void METHOD_1 ( android.view.View VAR_1 ) { VAR_2 . METHOD_2 ( true ) ; }\\n```\\n</code_snippet_two>\\n\\nProvide the sequence list of modifications to transform code snippet one into code snippet two.\\nConsider this ALLOWED_NODE_SET below composed by 18 java nodes.\\n<ALLOWED_NODE_SET>\\n['Assignment', 'BinaryOperator', 'Block', 'ConstructorCall', 'FieldRead', 'FieldWrite', 'If', 'Invocation', 'Literal', 'LocalVariable', 'Parameter', 'Return', 'ThisAccess', 'TypeAccess', 'TypeReference', 'UnaryOperator', 'VariableRead', 'Wra']\\n</ALLOWED_NODE_SET>\\n\", additional_kwargs={}, response_metadata={})]"
      ]
     },
     "execution_count": 18,
     "metadata": {},
     "output_type": "execute_result"
    }
   ],
   "source": [
    "final_proimpt"
   ]
  }
 ],
 "metadata": {
  "kernelspec": {
   "display_name": "_venv",
   "language": "python",
   "name": "python3"
  },
  "language_info": {
   "codemirror_mode": {
    "name": "ipython",
    "version": 3
   },
   "file_extension": ".py",
   "mimetype": "text/x-python",
   "name": "python",
   "nbconvert_exporter": "python",
   "pygments_lexer": "ipython3",
   "version": "3.11.3"
  }
 },
 "nbformat": 4,
 "nbformat_minor": 5
}
