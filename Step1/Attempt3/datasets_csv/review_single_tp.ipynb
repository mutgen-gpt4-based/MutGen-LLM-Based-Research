{
 "cells": [
  {
   "cell_type": "code",
   "execution_count": 1,
   "id": "3de7d149",
   "metadata": {},
   "outputs": [],
   "source": [
    "import pandas as pd\n",
    "import numpy as np"
   ]
  },
  {
   "cell_type": "code",
   "execution_count": 2,
   "id": "0c2c7507",
   "metadata": {},
   "outputs": [],
   "source": [
    "import sys\n",
    "sys.path.append(\"../\")\n",
    "from schemas.output_parser import OutputStructure\n",
    "from langchain_openai import ChatOpenAI\n",
    "from prompts.PromptMaker import PromptBuilder\n",
    "\n",
    "from langchain_core.messages import SystemMessage, HumanMessage\n",
    "\n",
    "from prompts.agent_prompt import AGENT_SYS_PROMPT, HUMAN_PROMPT"
   ]
  },
  {
   "cell_type": "code",
   "execution_count": 3,
   "id": "6e868062",
   "metadata": {},
   "outputs": [],
   "source": [
    "llm= ChatOpenAI(model=\"gpt-4.1\", temperature=0.0)\n",
    "agent = llm.with_structured_output(OutputStructure)\n"
   ]
  },
  {
   "cell_type": "code",
   "execution_count": 4,
   "id": "bb7c4f36",
   "metadata": {},
   "outputs": [
    {
     "data": {
      "text/html": [
       "<div>\n",
       "<style scoped>\n",
       "    .dataframe tbody tr th:only-of-type {\n",
       "        vertical-align: middle;\n",
       "    }\n",
       "\n",
       "    .dataframe tbody tr th {\n",
       "        vertical-align: top;\n",
       "    }\n",
       "\n",
       "    .dataframe thead th {\n",
       "        text-align: right;\n",
       "    }\n",
       "</style>\n",
       "<table border=\"1\" class=\"dataframe\">\n",
       "  <thead>\n",
       "    <tr style=\"text-align: right;\">\n",
       "      <th></th>\n",
       "      <th>fixed</th>\n",
       "      <th>buggy</th>\n",
       "      <th>baseline_ast_gumtree</th>\n",
       "      <th>line_id_tp_dataset</th>\n",
       "    </tr>\n",
       "  </thead>\n",
       "  <tbody>\n",
       "    <tr>\n",
       "      <th>0</th>\n",
       "      <td>private static void METHOD_1 ( long VAR_1 , lo...</td>\n",
       "      <td>private static native void METHOD_1 ( long VAR...</td>\n",
       "      <td>['Insert Wra']</td>\n",
       "      <td>1</td>\n",
       "    </tr>\n",
       "    <tr>\n",
       "      <th>1</th>\n",
       "      <td>public void METHOD_1 ( TYPE_1 VAR_1 , TYPE_2 V...</td>\n",
       "      <td>public void METHOD_1 ( TYPE_1 VAR_1 , TYPE_2 V...</td>\n",
       "      <td>['Insert Invocation', 'Insert TypeAccess', 'In...</td>\n",
       "      <td>2</td>\n",
       "    </tr>\n",
       "  </tbody>\n",
       "</table>\n",
       "</div>"
      ],
      "text/plain": [
       "                                               fixed  \\\n",
       "0  private static void METHOD_1 ( long VAR_1 , lo...   \n",
       "1  public void METHOD_1 ( TYPE_1 VAR_1 , TYPE_2 V...   \n",
       "\n",
       "                                               buggy  \\\n",
       "0  private static native void METHOD_1 ( long VAR...   \n",
       "1  public void METHOD_1 ( TYPE_1 VAR_1 , TYPE_2 V...   \n",
       "\n",
       "                                baseline_ast_gumtree  line_id_tp_dataset  \n",
       "0                                     ['Insert Wra']                   1  \n",
       "1  ['Insert Invocation', 'Insert TypeAccess', 'In...                   2  "
      ]
     },
     "execution_count": 4,
     "metadata": {},
     "output_type": "execute_result"
    }
   ],
   "source": [
    "df = pd.read_csv(\"dataset_C3_clean.csv\")\n",
    "df.head(2)"
   ]
  },
  {
   "cell_type": "code",
   "execution_count": 35,
   "id": "6fe5b01c",
   "metadata": {},
   "outputs": [
    {
     "name": "stdout",
     "output_type": "stream",
     "text": [
      "public java.util.Set < TYPE_1 > METHOD_1 ( java.lang.String VAR_1 ) { java.util.Set < TYPE_1 > set = this . VAR_2 . get ( VAR_1 ) ; return set == null ? new java.util.HashSet < TYPE_1 > ( ) : new java.util.HashSet < TYPE_1 > ( set ) ; }\n",
      "public java.util.Set < TYPE_1 > METHOD_1 ( java.lang.String VAR_1 ) { java.util.Set < TYPE_1 > set = this . VAR_2 . get ( VAR_1 ) ; return set == null ? new java.util.HashSet < TYPE_1 > ( ) : new java.util.HashSet ( set ) ; }\n",
      "[]\n",
      "709\n"
     ]
    }
   ],
   "source": [
    "limit = 601\n",
    "\n",
    "fixed = df[\"fixed\"].iloc[limit]\n",
    "buggy = df[\"buggy\"].iloc[limit]\n",
    "baseline = df[\"baseline_ast_gumtree\"].iloc[limit]\n",
    "print(df[\"fixed\"].iloc[limit])\n",
    "print(df[\"buggy\"].iloc[limit])\n",
    "print(df[\"baseline_ast_gumtree\"].iloc[limit])\n",
    "print(df[\"line_id_tp_dataset\"].iloc[limit])"
   ]
  },
  {
   "cell_type": "code",
   "execution_count": 26,
   "id": "36aff3c1",
   "metadata": {},
   "outputs": [],
   "source": [
    "all_ops = \"['Assignment', 'BinaryOperator', 'Block', 'ConstructorCall', 'FieldRead', 'FieldWrite', 'If', 'Invocation', 'Literal', 'LocalVariable', 'Parameter', 'Return', 'ThisAccess', 'TypeAccess', 'TypeReference', 'UnaryOperator', 'VariableRead', 'Wra']\"\n",
    "\n",
    "\n",
    "human_prompt = HUMAN_PROMPT.format(\n",
    "    CodeFix=fixed,\n",
    "    BuggyCode=buggy,\n",
    "    final_length_ops=18,\n",
    "    ops_for_gpt = all_ops\n",
    ")\n",
    "\n",
    "\n"
   ]
  },
  {
   "cell_type": "code",
   "execution_count": 9,
   "id": "31af2e91",
   "metadata": {},
   "outputs": [
    {
     "name": "stdout",
     "output_type": "stream",
     "text": [
      "\n",
      "You are an expert in Abstract Syntax Tree (AST) analysis for the Java language. \n",
      "You will be provided with two artifacts: (1) a pair of code snippets (`snippet one`, the fixed version, and `snippet two`, the buggy version), and (2) a set of Java node types titled \"ALLOWED_NODE_SET\". \n",
      "These snippets are a processed representation of Java code where identifiers have been replaced with placeholders.\n",
      "\n",
      "<YOUR_TASK>\n",
      "Your task is to identify the precise AST modifications required to transform `snippet one` into `snippet two`. \n",
      "The modifications fall into four categories: `Insert`, `Delete`, `Update`, or `Move`.\n",
      "</YOUR_TASK>\n",
      "\n",
      "<IMPORTANT_RULES>\n",
      "- You MUST associate each modification ONLY with a component type from the provided \"ALLOWED_NODE_SET\".\n",
      "- A component type from the set can be used more than once if multiple modifications of the same type occurred. \n",
      "- The \"ALLOWED_NODE_SET\" is a list of valid options; you are not required to use every component from this list.\n",
      "- Your analysis must be based on the structural changes between the two snippets, identifying each modification individually.\n",
      "</IMPORTANT_RULES>\n",
      "\n",
      "<OUTPUT_FORMAT>\n",
      "- Format your final answer as a single line, enclosed in square brackets.\n",
      "- Each entry must follow the `<Operation> <ComponentType>` format.\n",
      "- Format your final answer as a single line, enclosed in square brackets. Each entry must follow the `<Operation> <ComponentType>` format. Separate multiple entries with commas.\n",
      "</OUTPUT_FORMAT>\n",
      "\n",
      "If you are uncertain about the meaning of any component, consult this reference manual:\n",
      "<REFERENCE_MANUAL>\n",
      "* `Assignment` = An operation that assigns a value to a variable (e.g., `x = 10;`). \n",
      "* `BinaryOperator` = An operator that takes two operands (e.g., `a + b`, `x > y`). \n",
      "* `Block` = A sequence of (or just one) statements enclosed in curly braces (`{...}`). \n",
      "* `ConstructorCall` = The creation of a new object instance (e.g., `new MyClass()`). \n",
      "* `FieldRead` = Reading the value from an object's field or attribute (e.g., `this.name`, `person.age`).\n",
      "* `FieldWrite` = Writing a value to an object's field or attribute (e.g., `this.name = \"new name\";`).\n",
      "* `If` = A conditional `if` statement. \n",
      "* `Invocation` = A method call, an invocation of a method (e.g., `myMethod()`, `myObject.doSomething()`, `System.out.println()`).\n",
      "* `Literal` = A fixed value directly in the source code, such as and int, a string, etc (e.g., `\"hello\"`, `123`, `true`, `null`).\n",
      "* `LocalVariable` = The declaration of a new variable inside a method (e.g., `int count = 0;`). \n",
      "* `Parameter` = The declaration of a parameter in a method's signature (e.g., `void setName(String Parameter)`).\n",
      "* `Return` = A statement that returns control or a value from a method (e.g., `return;`, `return x;`).\n",
      "* `ThisAccess` = The `this` keyword, used to refer to the current object instance.\n",
      "* `TypeAccess` = Accessing a static member (field or method) of a class (e.g., `System.out`, `Math.max()`).\n",
      "* `TypeReference` = A reference to a data type's name (e.g., in a declaration `String s;` or a cast `(Integer) obj`).\n",
      "* `UnaryOperator` = An operator that takes a single operand (e.g., `i++`, `!`).\n",
      "* `VariableRead` = Reading the value from a local variable or parameter.\n",
      "* `Wra` = A modifier in a method's declaration that controls its visibility or behavior (e.g., `public`, `static`). \n",
      "</REFERENCE_MANUAL>\n",
      "\n"
     ]
    }
   ],
   "source": [
    "print(AGENT_SYS_PROMPT)"
   ]
  },
  {
   "cell_type": "code",
   "execution_count": 27,
   "id": "920f2409",
   "metadata": {},
   "outputs": [],
   "source": [
    "final_prompt = [SystemMessage(AGENT_SYS_PROMPT), HumanMessage(human_prompt)]\n",
    "results = agent.invoke(final_prompt)"
   ]
  },
  {
   "cell_type": "code",
   "execution_count": 28,
   "id": "57d96c96",
   "metadata": {},
   "outputs": [
    {
     "data": {
      "text/plain": [
       "['Delete TypeReference']"
      ]
     },
     "execution_count": 28,
     "metadata": {},
     "output_type": "execute_result"
    }
   ],
   "source": [
    "results.mut_op_list"
   ]
  },
  {
   "cell_type": "code",
   "execution_count": null,
   "id": "a84b0e6e",
   "metadata": {},
   "outputs": [],
   "source": []
  }
 ],
 "metadata": {
  "kernelspec": {
   "display_name": "_venv",
   "language": "python",
   "name": "python3"
  },
  "language_info": {
   "codemirror_mode": {
    "name": "ipython",
    "version": 3
   },
   "file_extension": ".py",
   "mimetype": "text/x-python",
   "name": "python",
   "nbconvert_exporter": "python",
   "pygments_lexer": "ipython3",
   "version": "3.11.3"
  }
 },
 "nbformat": 4,
 "nbformat_minor": 5
}
