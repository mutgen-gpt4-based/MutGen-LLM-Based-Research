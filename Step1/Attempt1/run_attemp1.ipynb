{
 "cells": [
  {
   "cell_type": "code",
   "execution_count": 1,
   "id": "706bb16a",
   "metadata": {},
   "outputs": [],
   "source": [
    "from schemas.output_parser import OutputStructure\n",
    "from prompts.agent_prompt import CODEX_SYS\n",
    "from prompts.human_request_prompt import USER_PROMPT\n",
    "from dotenv import load_dotenv, find_dotenv\n",
    "from states.MainState import MainState\n",
    "from langchain_openai import ChatOpenAI\n",
    "from langgraph.graph import START, StateGraph, END\n",
    "from langchain_core.messages import HumanMessage, SystemMessage\n",
    "import os\n",
    "import pandas as pd\n",
    "import time\n",
    "from IPython.display import Image, display\n",
    "# from langgraph.constants import Send"
   ]
  },
  {
   "cell_type": "code",
   "execution_count": 2,
   "id": "dfcedc20",
   "metadata": {},
   "outputs": [
    {
     "name": "stdout",
     "output_type": "stream",
     "text": [
      "OpenAI API loaded.\n"
     ]
    }
   ],
   "source": [
    "_ = load_dotenv(find_dotenv())\n",
    "\n",
    "api_openai = os.getenv('OPENAI_API_KEY')\n",
    "if api_openai:\n",
    "    print('OpenAI API loaded.')\n",
    "else:\n",
    "    print('missing api key: OPEN_API_KEY')"
   ]
  },
  {
   "cell_type": "code",
   "execution_count": 3,
   "id": "6bd419c3",
   "metadata": {},
   "outputs": [],
   "source": [
    "llm = ChatOpenAI(\n",
    "    model=\"gpt-4.1\",\n",
    "    temperature=0.0\n",
    ")\n",
    "agent = llm.with_structured_output(OutputStructure)"
   ]
  },
  {
   "cell_type": "code",
   "execution_count": 4,
   "id": "c532d467",
   "metadata": {},
   "outputs": [],
   "source": [
    "def process_data_cluster(state: MainState):\n",
    "    batch_package = []\n",
    "    cluster_path = state[\"cluster_url\"]\n",
    "    df = pd.read_csv(cluster_path)\n",
    "    buggy = list(df[\"buggy\"])\n",
    "    fixed = list(df[\"fixed\"])\n",
    "    \n",
    "    for index, _ in enumerate(fixed):\n",
    "    # for index, _ in enumerate(range(5)):\n",
    "        human_prompt = USER_PROMPT.format(fixed_code=fixed[index], buggy_code=buggy[index])\n",
    "        batch_package.append([SystemMessage(CODEX_SYS), HumanMessage(human_prompt)])\n",
    "\n",
    "    return {\"pair_tp_list\": batch_package, \"total_requests_from_df\": len(batch_package), \"current_offset\": 0}"
   ]
  },
  {
   "cell_type": "code",
   "execution_count": 5,
   "id": "645a36e0",
   "metadata": {},
   "outputs": [],
   "source": [
    "def split_data_process_for_batch(state: MainState):\n",
    "    offset = state[\"current_offset\"]\n",
    "    size = 50\n",
    "    total_prompts = state[\"total_requests_from_df\"]\n",
    "    limit_index = min(offset + size, total_prompts)\n",
    "    \n",
    "    print(f\"\\n--- 2. Processando lote: {offset} a {limit_index} de {total_prompts} ---\")\n",
    "    batch_to_process = state[\"pair_tp_list\"][offset : limit_index]\n",
    "    \n",
    "    return {\n",
    "        \"sliced_for_batch\": batch_to_process, \n",
    "        \"current_offset\": limit_index     \n",
    "        }\n"
   ]
  },
  {
   "cell_type": "code",
   "execution_count": 6,
   "id": "eff33a43",
   "metadata": {},
   "outputs": [],
   "source": [
    "def agent_attempt_1(state:MainState):\n",
    "    batch_list= state[\"sliced_for_batch\"]\n",
    "    all_results_from_llm = agent.batch(batch_list, config={\"max_concurrency\": 50})\n",
    "    clean_results = [res.mut_op_list for res in all_results_from_llm]\n",
    "\n",
    "    return {\"gpt_response\": clean_results}   \n",
    "    "
   ]
  },
  {
   "cell_type": "code",
   "execution_count": null,
   "id": "80f84303",
   "metadata": {},
   "outputs": [],
   "source": [
    "def async_send_conditional(state: MainState):\n",
    "    async_list = []\n",
    "    batch_package = state[\"pair_tp_list\"]\n",
    "    for list in batch_package:\n",
    "        async_list.append(Send(\"Run Agent\", {\"tp_request\": list}))\n",
    "    return async_list"
   ]
  },
  {
   "cell_type": "code",
   "execution_count": 7,
   "id": "9c0b33f0",
   "metadata": {},
   "outputs": [],
   "source": [
    "def loop_batch_conditional(state:MainState):\n",
    "    offset = state[\"current_offset\"]\n",
    "    total_requests = state[\"total_requests_from_df\"]\n",
    "    if offset >= total_requests:\n",
    "        return \"Save DF\"\n",
    "    return \"Batch Slicing\"\n"
   ]
  },
  {
   "cell_type": "code",
   "execution_count": 8,
   "id": "0d2cdd42",
   "metadata": {},
   "outputs": [],
   "source": [
    "def save_dataframe(state:MainState):\n",
    "    cluster_id = state[\"cluster\"]\n",
    "    cluster_path = state[\"cluster_url\"]\n",
    "    new_df = pd.read_csv(cluster_path)\n",
    "    # new_df = pd.DataFrame()\n",
    "    new_df[\"attempt_1_results\"] = state[\"gpt_response\"]\n",
    "    new_df.to_csv(f\"results_{cluster_id}_from_attempt1.csv\", sep=',', index=False)\n",
    "    "
   ]
  },
  {
   "cell_type": "code",
   "execution_count": 9,
   "id": "d69c322b",
   "metadata": {},
   "outputs": [
    {
     "data": {
      "image/png": "[encoded data removed]",
      "text/plain": [
       "<IPython.core.display.Image object>"
      ]
     },
     "metadata": {},
     "output_type": "display_data"
    }
   ],
   "source": [
    "builder = StateGraph(MainState)\n",
    "\n",
    "builder.add_node(\"Load and Clean data\", process_data_cluster)\n",
    "builder.add_node(\"Batch Slicing\", split_data_process_for_batch)\n",
    "builder.add_node(\"Run Agent\", agent_attempt_1)\n",
    "builder.add_node(\"Save DF\", save_dataframe)\n",
    "\n",
    "builder.add_edge(START, \"Load and Clean data\")\n",
    "builder.add_edge(\"Load and Clean data\", \"Batch Slicing\")\n",
    "builder.add_edge(\"Batch Slicing\", \"Run Agent\")\n",
    "builder.add_conditional_edges(\"Run Agent\", \n",
    "                              loop_batch_conditional, \n",
    "                              {\n",
    "                                  \"Save DF\": \"Save DF\",\n",
    "                                  \"Batch Slicing\": \"Batch Slicing\"\n",
    "                              })\n",
    "builder.add_edge(\"Save DF\", END)\n",
    "\n",
    "graph_execute = builder.compile()\n",
    "display(Image(graph_execute.get_graph(xray=True).draw_mermaid_png()))"
   ]
  },
  {
   "cell_type": "code",
   "execution_count": null,
   "id": "720ee4fe",
   "metadata": {},
   "outputs": [
    {
     "name": "stdout",
     "output_type": "stream",
     "text": [
      "\n",
      "--- 2. Processando lote: 0 a 50 de 2692 ---\n",
      "\n",
      "--- 2. Processando lote: 50 a 100 de 2692 ---\n",
      "\n",
      "--- 2. Processando lote: 100 a 150 de 2692 ---\n"
     ]
    }
   ],
   "source": [
    "init_input = {\n",
    "    \"cluster\": \"C1\",\n",
    "    \"cluster_url\": \"datasets_csv/dataset_C1_clean.csv\"\n",
    "}\n",
    "messages = graph_execute.invoke(init_input)"
   ]
  },
  {
   "cell_type": "code",
   "execution_count": 1,
   "id": "e98ac09a",
   "metadata": {},
   "outputs": [
    {
     "ename": "NameError",
     "evalue": "name 'messages' is not defined",
     "output_type": "error",
     "traceback": [
      "\u001b[31m---------------------------------------------------------------------------\u001b[39m",
      "\u001b[31mNameError\u001b[39m                                 Traceback (most recent call last)",
      "\u001b[36mCell\u001b[39m\u001b[36m \u001b[39m\u001b[32mIn[1]\u001b[39m\u001b[32m, line 1\u001b[39m\n\u001b[32m----> \u001b[39m\u001b[32m1\u001b[39m \u001b[38;5;28;01mfor\u001b[39;00m m \u001b[38;5;129;01min\u001b[39;00m \u001b[43mmessages\u001b[49m[\u001b[33m'\u001b[39m\u001b[33mmessages\u001b[39m\u001b[33m'\u001b[39m]:\n\u001b[32m      2\u001b[39m     m.pretty_print()\n",
      "\u001b[31mNameError\u001b[39m: name 'messages' is not defined"
     ]
    }
   ],
   "source": [
    "for m in messages['messages']:\n",
    "    m.pretty_print()"
   ]
  },
  {
   "cell_type": "code",
   "execution_count": null,
   "id": "eb7be34e",
   "metadata": {},
   "outputs": [],
   "source": []
  },
  {
   "cell_type": "code",
   "execution_count": 7,
   "id": "386ef3bc",
   "metadata": {},
   "outputs": [
    {
     "name": "stdout",
     "output_type": "stream",
     "text": [
      "0\n",
      "1\n",
      "2\n",
      "3\n",
      "4\n"
     ]
    }
   ],
   "source": [
    "for i in range(5):\n",
    "    print(i)"
   ]
  },
  {
   "cell_type": "code",
   "execution_count": null,
   "id": "cb5e5825",
   "metadata": {},
   "outputs": [],
   "source": []
  }
 ],
 "metadata": {
  "kernelspec": {
   "display_name": "_venv",
   "language": "python",
   "name": "python3"
  },
  "language_info": {
   "codemirror_mode": {
    "name": "ipython",
    "version": 3
   },
   "file_extension": ".py",
   "mimetype": "text/x-python",
   "name": "python",
   "nbconvert_exporter": "python",
   "pygments_lexer": "ipython3",
   "version": "3.11.3"
  }
 },
 "nbformat": 4,
 "nbformat_minor": 5
}
