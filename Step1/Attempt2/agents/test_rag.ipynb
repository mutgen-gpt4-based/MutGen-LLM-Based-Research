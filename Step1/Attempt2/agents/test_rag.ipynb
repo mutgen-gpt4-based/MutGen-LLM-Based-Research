{
 "cells": [
  {
   "cell_type": "code",
   "execution_count": 71,
   "id": "614beed2",
   "metadata": {},
   "outputs": [],
   "source": [
    "import pandas as pd\n",
    "from langchain_core.documents import Document"
   ]
  },
  {
   "cell_type": "code",
   "execution_count": 72,
   "id": "9285328f",
   "metadata": {},
   "outputs": [],
   "source": [
    "EXCEL_MUT_OP_PATH = 'my_files/mut_op_java_file.xlsx'\n",
    "df = pd.read_excel(EXCEL_MUT_OP_PATH)\n"
   ]
  },
  {
   "cell_type": "code",
   "execution_count": 73,
   "id": "b21634d3",
   "metadata": {},
   "outputs": [
    {
     "data": {
      "text/html": [
       "<div>\n",
       "<style scoped>\n",
       "    .dataframe tbody tr th:only-of-type {\n",
       "        vertical-align: middle;\n",
       "    }\n",
       "\n",
       "    .dataframe tbody tr th {\n",
       "        vertical-align: top;\n",
       "    }\n",
       "\n",
       "    .dataframe thead th {\n",
       "        text-align: right;\n",
       "    }\n",
       "</style>\n",
       "<table border=\"1\" class=\"dataframe\">\n",
       "  <thead>\n",
       "    <tr style=\"text-align: right;\">\n",
       "      <th></th>\n",
       "      <th>Component</th>\n",
       "      <th>Definition</th>\n",
       "      <th>Example(s)</th>\n",
       "    </tr>\n",
       "  </thead>\n",
       "  <tbody>\n",
       "    <tr>\n",
       "      <th>0</th>\n",
       "      <td>Assignment</td>\n",
       "      <td>An operation that assigns a value to a variable.</td>\n",
       "      <td>x = 10;</td>\n",
       "    </tr>\n",
       "    <tr>\n",
       "      <th>1</th>\n",
       "      <td>BinaryOperator</td>\n",
       "      <td>An operator that takes two operands.</td>\n",
       "      <td>a + b, x &gt; y</td>\n",
       "    </tr>\n",
       "    <tr>\n",
       "      <th>2</th>\n",
       "      <td>Block</td>\n",
       "      <td>A sequence of statements enclosed in curly bra...</td>\n",
       "      <td>{...}</td>\n",
       "    </tr>\n",
       "    <tr>\n",
       "      <th>3</th>\n",
       "      <td>ConstructorCall</td>\n",
       "      <td>The creation of a new object instance.</td>\n",
       "      <td>new MyClass()</td>\n",
       "    </tr>\n",
       "    <tr>\n",
       "      <th>4</th>\n",
       "      <td>FieldRead</td>\n",
       "      <td>Reading the value from an object's field or at...</td>\n",
       "      <td>this.name, person.age</td>\n",
       "    </tr>\n",
       "    <tr>\n",
       "      <th>5</th>\n",
       "      <td>FieldWrite</td>\n",
       "      <td>Writing a value to an object's field or attrib...</td>\n",
       "      <td>this.name = \"new name\";</td>\n",
       "    </tr>\n",
       "    <tr>\n",
       "      <th>6</th>\n",
       "      <td>If</td>\n",
       "      <td>A conditional if statement.</td>\n",
       "      <td>if (condition)</td>\n",
       "    </tr>\n",
       "    <tr>\n",
       "      <th>7</th>\n",
       "      <td>Invocation</td>\n",
       "      <td>A method call; an invocation of a method.</td>\n",
       "      <td>myObject.doSomething()</td>\n",
       "    </tr>\n",
       "    <tr>\n",
       "      <th>8</th>\n",
       "      <td>Literal</td>\n",
       "      <td>A fixed value directly in the source code.</td>\n",
       "      <td>\"hello\", 123, true, null</td>\n",
       "    </tr>\n",
       "    <tr>\n",
       "      <th>9</th>\n",
       "      <td>LocalVariable</td>\n",
       "      <td>The declaration of a new variable inside a met...</td>\n",
       "      <td>int count = 0;</td>\n",
       "    </tr>\n",
       "    <tr>\n",
       "      <th>10</th>\n",
       "      <td>Parameter</td>\n",
       "      <td>The declaration of a parameter in a method's s...</td>\n",
       "      <td>void setName(String name)</td>\n",
       "    </tr>\n",
       "    <tr>\n",
       "      <th>11</th>\n",
       "      <td>Return</td>\n",
       "      <td>A statement that returns control or a value fr...</td>\n",
       "      <td>return; return x;</td>\n",
       "    </tr>\n",
       "    <tr>\n",
       "      <th>12</th>\n",
       "      <td>ThisAccess</td>\n",
       "      <td>The this keyword, used to refer to the current...</td>\n",
       "      <td>this.field</td>\n",
       "    </tr>\n",
       "    <tr>\n",
       "      <th>13</th>\n",
       "      <td>TypeAccess</td>\n",
       "      <td>Accessing a static member (field or method) of...</td>\n",
       "      <td>System.out, Math.max()</td>\n",
       "    </tr>\n",
       "    <tr>\n",
       "      <th>14</th>\n",
       "      <td>TypeReference</td>\n",
       "      <td>A reference to a data type's name.</td>\n",
       "      <td>String s;, (Integer) obj</td>\n",
       "    </tr>\n",
       "    <tr>\n",
       "      <th>15</th>\n",
       "      <td>UnaryOperator</td>\n",
       "      <td>An operator that takes a single operand.</td>\n",
       "      <td>i++, !</td>\n",
       "    </tr>\n",
       "    <tr>\n",
       "      <th>16</th>\n",
       "      <td>VariableRead</td>\n",
       "      <td>Reading the value from a local variable or par...</td>\n",
       "      <td>myVariable</td>\n",
       "    </tr>\n",
       "    <tr>\n",
       "      <th>17</th>\n",
       "      <td>Wra</td>\n",
       "      <td>A modifier in a method's declaration for visib...</td>\n",
       "      <td>public, static, or any other access modifier</td>\n",
       "    </tr>\n",
       "  </tbody>\n",
       "</table>\n",
       "</div>"
      ],
      "text/plain": [
       "          Component                                         Definition  \\\n",
       "0        Assignment   An operation that assigns a value to a variable.   \n",
       "1    BinaryOperator               An operator that takes two operands.   \n",
       "2             Block  A sequence of statements enclosed in curly bra...   \n",
       "3   ConstructorCall             The creation of a new object instance.   \n",
       "4         FieldRead  Reading the value from an object's field or at...   \n",
       "5        FieldWrite  Writing a value to an object's field or attrib...   \n",
       "6                If                        A conditional if statement.   \n",
       "7        Invocation          A method call; an invocation of a method.   \n",
       "8           Literal         A fixed value directly in the source code.   \n",
       "9     LocalVariable  The declaration of a new variable inside a met...   \n",
       "10        Parameter  The declaration of a parameter in a method's s...   \n",
       "11           Return  A statement that returns control or a value fr...   \n",
       "12       ThisAccess  The this keyword, used to refer to the current...   \n",
       "13       TypeAccess  Accessing a static member (field or method) of...   \n",
       "14    TypeReference                 A reference to a data type's name.   \n",
       "15    UnaryOperator           An operator that takes a single operand.   \n",
       "16     VariableRead  Reading the value from a local variable or par...   \n",
       "17              Wra  A modifier in a method's declaration for visib...   \n",
       "\n",
       "                                      Example(s)  \n",
       "0                                        x = 10;  \n",
       "1                                   a + b, x > y  \n",
       "2                                          {...}  \n",
       "3                                  new MyClass()  \n",
       "4                          this.name, person.age  \n",
       "5                        this.name = \"new name\";  \n",
       "6                                 if (condition)  \n",
       "7                         myObject.doSomething()  \n",
       "8                       \"hello\", 123, true, null  \n",
       "9                                 int count = 0;  \n",
       "10                     void setName(String name)  \n",
       "11                             return; return x;  \n",
       "12                                    this.field  \n",
       "13                        System.out, Math.max()  \n",
       "14                      String s;, (Integer) obj  \n",
       "15                                        i++, !  \n",
       "16                                    myVariable  \n",
       "17  public, static, or any other access modifier  "
      ]
     },
     "execution_count": 73,
     "metadata": {},
     "output_type": "execute_result"
    }
   ],
   "source": [
    "df"
   ]
  },
  {
   "cell_type": "code",
   "execution_count": 74,
   "id": "eba0b45f",
   "metadata": {},
   "outputs": [],
   "source": [
    "documents = []\n",
    "for index, row in df.iterrows():\n",
    "    page_content = f\"\"\"Node type: {row['Component']}. {row['Definition']} Example: {row['Example(s)']}\"\"\"\n",
    "    metadata = row.to_dict()\n",
    "    metadata['row'] = index\n",
    "    metadata['source'] = EXCEL_MUT_OP_PATH\n",
    "    \n",
    "    doc = Document(page_content=page_content, metadata=metadata)\n",
    "    documents.append(doc)"
   ]
  },
  {
   "cell_type": "code",
   "execution_count": 9,
   "id": "97306f49",
   "metadata": {},
   "outputs": [
    {
     "data": {
      "text/plain": [
       "{'Component': 'If',\n",
       " 'Definition': 'A conditional if statement.',\n",
       " 'Example(s)': 'if (condition)',\n",
       " 'row': 6,\n",
       " 'source': 'my_files/mut_op_java_file.xlsx'}"
      ]
     },
     "execution_count": 9,
     "metadata": {},
     "output_type": "execute_result"
    }
   ],
   "source": [
    "documents[6].metadata\n",
    "    "
   ]
  },
  {
   "cell_type": "code",
   "execution_count": null,
   "id": "2aa236ad",
   "metadata": {},
   "outputs": [],
   "source": []
  },
  {
   "cell_type": "code",
   "execution_count": 75,
   "id": "d18a7962",
   "metadata": {},
   "outputs": [],
   "source": [
    "from langchain_openai.embeddings import OpenAIEmbeddings\n",
    "from langchain_community.vectorstores.faiss import FAISS\n",
    "from langchain.chains import ConversationalRetrievalChain\n",
    "from dotenv import load_dotenv, find_dotenv\n",
    "import os\n",
    "from langchain_openai import ChatOpenAI\n",
    "from langchain_core.messages import SystemMessage, HumanMessage, AIMessage\n",
    "\n",
    "from langchain.prompts import (\n",
    "    ChatPromptTemplate,\n",
    "    SystemMessagePromptTemplate,\n",
    "    HumanMessagePromptTemplate,\n",
    ")"
   ]
  },
  {
   "cell_type": "code",
   "execution_count": 76,
   "id": "72dae134",
   "metadata": {},
   "outputs": [
    {
     "name": "stdout",
     "output_type": "stream",
     "text": [
      "OpenAI API loaded.\n"
     ]
    }
   ],
   "source": [
    "_ = load_dotenv(find_dotenv())\n",
    "\n",
    "api_openai = os.getenv('OPENAI_API_KEY')\n",
    "if api_openai:\n",
    "    print('OpenAI API loaded.')\n",
    "else:\n",
    "    print('missing api key: OPEN_API_KEY')"
   ]
  },
  {
   "cell_type": "code",
   "execution_count": 77,
   "id": "ea8e1775",
   "metadata": {},
   "outputs": [],
   "source": [
    "embedding_model = OpenAIEmbeddings(model=\"text-embedding-3-large\")\n",
    "vector_store = FAISS.from_documents(\n",
    "    documents=documents,\n",
    "    embedding=embedding_model\n",
    ")\n",
    "retriever = vector_store.as_retriever(\n",
    "    search_type = \"similarity\",\n",
    "    search_kwargs = {\"k\": 6}\n",
    ")"
   ]
  },
  {
   "cell_type": "code",
   "execution_count": 14,
   "id": "23fba134",
   "metadata": {},
   "outputs": [],
   "source": [
    "vector_store.save_local(\"FaissMutOp\")"
   ]
  },
  {
   "cell_type": "code",
   "execution_count": null,
   "id": "235f0f7d",
   "metadata": {},
   "outputs": [],
   "source": [
    "embeddings = OpenAIEmbeddings(model=\"text-embedding-3-small\")\n",
    "vectorstore = FAISS.load_local(\n",
    "    folder_path=\"faiss_index_taco\",\n",
    "    embeddings=embeddings,\n",
    "    allow_dangerous_deserialization=True)"
   ]
  },
  {
   "cell_type": "code",
   "execution_count": 28,
   "id": "beeb6c5b",
   "metadata": {},
   "outputs": [],
   "source": [
    "llm = ChatOpenAI(model=\"gpt-4o-mini\")"
   ]
  },
  {
   "cell_type": "code",
   "execution_count": 65,
   "id": "5a017139",
   "metadata": {},
   "outputs": [],
   "source": [
    "system_prompt=\"\"\"\n",
    "\n",
    "You are an expert in Abstract Syntax Tree (AST) analysis for the Java language. \n",
    "You will be provided with two code snippets, `snippet one` (the buggy version) and `snippet two` (the fixed version). \n",
    "These snippets are a processed representation of Java code where identifiers have been replaced with placeholders and IDs.\n",
    "\n",
    "Your task is to identify the precise AST modifications required to transform `snippet one` into `snippet two`. \n",
    "The modifications fall into four categories: `Insert`, `Delete`, `Update`, or `Move`. \n",
    "You must associate each modification with a specific Java node component from the manual context.\n",
    "\n",
    "\n",
    "\n",
    "Follow these steps to generate your final answer:\n",
    "\n",
    "1.  Perform a structural comparison between `snippet one` and `snippet two`.\n",
    "2.  Identify all AST nodes that were added (`Insert`), removed (`Delete`), moved from its original place to another (`Move`), or had their value changed (`Update`).\n",
    "3.  For each modification, identify the type of the AST node involved and match it to a component from the **Official Java AST Component List**.\n",
    "4.  Format your final answer as a single line, enclosed in square brackets. Each entry must follow the `<Operation> <ComponentType>` format. Separate multiple entries with a semicolon.\n",
    "\n",
    "Keep in mind that the **ComponentType** is the Java node component type from the manual context\n",
    "\n",
    "\n",
    "\n",
    "\n",
    "\"\"\"\n",
    "\n",
    "human = \"\"\"\n",
    "MANUAL CONTEXT:\n",
    "{context}\n",
    "\n",
    "USER'S QUESTION:\n",
    "{question}\n",
    "\n",
    "AI:\n",
    "\"\"\"\n",
    "\n"
   ]
  },
  {
   "cell_type": "code",
   "execution_count": 7,
   "id": "02020564",
   "metadata": {},
   "outputs": [],
   "source": [
    "tp = \"\"\"\n",
    "analyze these two code snippets, what are the modifications to transform code 1 into code 2:\n",
    "<code_snippet_1>\n",
    "protected void METHOD_1 ( ) { super . METHOD_1 ( ) ; TYPE_1 VAR_1 = ( ( TYPE_1 ) ( VAR_2 . METHOD_2 ( ) ) ) ; VAR_1 . METHOD_3 ( VAR_2 ) ; VAR_3 . i ( VAR_4 , STRING_1 ) ; }\n",
    "</code_snippet_1>\n",
    "\n",
    "<code_snippet_2>\n",
    "protected void METHOD_1 ( ) { super . METHOD_1 ( ) ; VAR_3 . i ( VAR_4 , STRING_1 ) ; }\n",
    "</code_snippet_2>\n",
    "\"\"\""
   ]
  },
  {
   "cell_type": "code",
   "execution_count": 67,
   "id": "a3f6a667",
   "metadata": {},
   "outputs": [],
   "source": [
    "messages = [\n",
    "    SystemMessagePromptTemplate.from_template(system_prompt),\n",
    "    HumanMessagePromptTemplate.from_template(human) \n",
    "]\n",
    "qa_prompt = ChatPromptTemplate.from_messages(messages)"
   ]
  },
  {
   "cell_type": "code",
   "execution_count": 62,
   "id": "553aee62",
   "metadata": {},
   "outputs": [],
   "source": [
    "qa_chain = ConversationalRetrievalChain.from_llm(\n",
    "    llm=llm,\n",
    "    retriever=retriever,\n",
    "    combine_docs_chain_kwargs={\"prompt\": qa_prompt}, # <--- É AQUI QUE O SYSTEM PROMPT ENTRA\n",
    "    return_source_documents=True\n",
    ")"
   ]
  },
  {
   "cell_type": "code",
   "execution_count": 68,
   "id": "248f7dd3",
   "metadata": {},
   "outputs": [],
   "source": [
    "result = qa_chain.invoke({\"question\": tp, \"chat_history\": []})"
   ]
  },
  {
   "cell_type": "code",
   "execution_count": 69,
   "id": "a38428b2",
   "metadata": {},
   "outputs": [
    {
     "data": {
      "text/plain": [
       "'[Delete LocalVariable]'"
      ]
     },
     "execution_count": 69,
     "metadata": {},
     "output_type": "execute_result"
    }
   ],
   "source": [
    "result['answer']"
   ]
  },
  {
   "cell_type": "code",
   "execution_count": null,
   "id": "339a2f11",
   "metadata": {},
   "outputs": [],
   "source": []
  },
  {
   "cell_type": "code",
   "execution_count": 70,
   "id": "446dbcb8",
   "metadata": {},
   "outputs": [
    {
     "data": {
      "text/plain": [
       "{'question': '\\nanalyze these two code snippets, what are the modifications to transform code 1 into code 2:\\n<code_snippet_1>\\nprotected void METHOD_1 ( ) { super . METHOD_1 ( ) ; TYPE_1 VAR_1 = ( ( TYPE_1 ) ( VAR_2 . METHOD_2 ( ) ) ) ; VAR_1 . METHOD_3 ( VAR_2 ) ; VAR_3 . i ( VAR_4 , STRING_1 ) ; }\\n</code_snippet_1>\\n\\n<code_snippet_2>\\nprotected void METHOD_1 ( ) { super . METHOD_1 ( ) ; VAR_3 . i ( VAR_4 , STRING_1 ) ; }\\n</code_snippet_2>\\n',\n",
       " 'chat_history': [],\n",
       " 'answer': '[Delete LocalVariable]',\n",
       " 'source_documents': [Document(id='1e007b42-f078-4d76-a710-4d07fb0a2465', metadata={'Component': 'Wra', 'Definition': \"A modifier in a method's declaration for visibility or behavior.\", 'Example(s)': 'public, static', 'row': 17, 'source': 'my_files/mut_op_java_file.xlsx'}, page_content=\"Node type: Wra. A modifier in a method's declaration for visibility or behavior. Example: public, static\"),\n",
       "  Document(id='693f7b17-f6a1-4712-b206-7206186d07b8', metadata={'Component': 'Invocation', 'Definition': 'A method call; an invocation of a method.', 'Example(s)': 'myObject.doSomething()', 'row': 7, 'source': 'my_files/mut_op_java_file.xlsx'}, page_content='Node type: Invocation. A method call; an invocation of a method. Example: myObject.doSomething()'),\n",
       "  Document(id='27460543-008d-438e-b9ff-363b213b1859', metadata={'Component': 'TypeAccess', 'Definition': 'Accessing a static member (field or method) of a class.', 'Example(s)': 'System.out, Math.max()', 'row': 13, 'source': 'my_files/mut_op_java_file.xlsx'}, page_content='Node type: TypeAccess. Accessing a static member (field or method) of a class. Example: System.out, Math.max()'),\n",
       "  Document(id='1b8a9eb2-4e7c-415b-93ca-cb397d5d9a2c', metadata={'Component': 'LocalVariable', 'Definition': 'The declaration of a new variable inside a method.', 'Example(s)': 'int count = 0;', 'row': 9, 'source': 'my_files/mut_op_java_file.xlsx'}, page_content='Node type: LocalVariable. The declaration of a new variable inside a method. Example: int count = 0;'),\n",
       "  Document(id='ca00e15f-580b-4835-ba3a-24d30b231fb4', metadata={'Component': 'Return', 'Definition': 'A statement that returns control or a value from a method.', 'Example(s)': 'return; return x;', 'row': 11, 'source': 'my_files/mut_op_java_file.xlsx'}, page_content='Node type: Return. A statement that returns control or a value from a method. Example: return; return x;'),\n",
       "  Document(id='9e507267-d523-4496-be29-2d5618f51d40', metadata={'Component': 'Parameter', 'Definition': \"The declaration of a parameter in a method's signature.\", 'Example(s)': 'void setName(String name)', 'row': 10, 'source': 'my_files/mut_op_java_file.xlsx'}, page_content=\"Node type: Parameter. The declaration of a parameter in a method's signature. Example: void setName(String name)\")]}"
      ]
     },
     "execution_count": 70,
     "metadata": {},
     "output_type": "execute_result"
    }
   ],
   "source": [
    "result"
   ]
  },
  {
   "cell_type": "code",
   "execution_count": null,
   "id": "a45770f7",
   "metadata": {},
   "outputs": [],
   "source": [
    "from pathlib import Path"
   ]
  },
  {
   "cell_type": "code",
   "execution_count": 80,
   "id": "7483f008",
   "metadata": {},
   "outputs": [
    {
     "name": "stdout",
     "output_type": "stream",
     "text": [
      "achou a pasta\n"
     ]
    }
   ],
   "source": [
    "caminho_resultados = Path(\"my_files\")\n",
    "\n",
    "if caminho_resultados.exists() and caminho_resultados.is_dir():\n",
    "    print(\"achou a pasta\")\n"
   ]
  },
  {
   "cell_type": "code",
   "execution_count": null,
   "id": "8c64e900",
   "metadata": {},
   "outputs": [],
   "source": []
  },
  {
   "cell_type": "code",
   "execution_count": null,
   "id": "89d91ceb",
   "metadata": {},
   "outputs": [],
   "source": [
    "print(f\"A pasta '{nome_da_pasta_de_resultados}' foi verificada e/ou criada com sucesso.\")"
   ]
  },
  {
   "cell_type": "code",
   "execution_count": null,
   "id": "fffa5258",
   "metadata": {},
   "outputs": [],
   "source": [
    "\n",
    "\n",
    "nome_da_pasta_de_resultados = \"results\"\n",
    "caminho_resultados = Path(nome_da_pasta_de_resultados)\n",
    "\n",
    "# Cria a pasta, mas não faz nada (e não dá erro) se ela já existir.\n",
    "caminho_resultados.mkdir(exist_ok=True)\n",
    "\n"
   ]
  },
  {
   "cell_type": "code",
   "execution_count": 5,
   "id": "2284344c",
   "metadata": {},
   "outputs": [],
   "source": [
    "from RAG_agent import agent_rag_chained"
   ]
  },
  {
   "cell_type": "code",
   "execution_count": 6,
   "id": "96a3924a",
   "metadata": {},
   "outputs": [
    {
     "name": "stdout",
     "output_type": "stream",
     "text": [
      "OpenAI API loaded.\n"
     ]
    }
   ],
   "source": [
    "agent = agent_rag_chained()"
   ]
  },
  {
   "cell_type": "code",
   "execution_count": 8,
   "id": "df760b34",
   "metadata": {},
   "outputs": [],
   "source": [
    "results = agent.invoke({\"question\": tp, \"chat_history\": []})"
   ]
  },
  {
   "cell_type": "code",
   "execution_count": 11,
   "id": "2bebc009",
   "metadata": {},
   "outputs": [
    {
     "data": {
      "text/plain": [
       "'[Delete LocalVariable; Delete Invocation; Delete Invocation]'"
      ]
     },
     "execution_count": 11,
     "metadata": {},
     "output_type": "execute_result"
    }
   ],
   "source": [
    "results['answer']"
   ]
  },
  {
   "cell_type": "code",
   "execution_count": null,
   "id": "c2eab5f7",
   "metadata": {},
   "outputs": [],
   "source": []
  }
 ],
 "metadata": {
  "kernelspec": {
   "display_name": "_venv",
   "language": "python",
   "name": "python3"
  },
  "language_info": {
   "codemirror_mode": {
    "name": "ipython",
    "version": 3
   },
   "file_extension": ".py",
   "mimetype": "text/x-python",
   "name": "python",
   "nbconvert_exporter": "python",
   "pygments_lexer": "ipython3",
   "version": "3.11.3"
  }
 },
 "nbformat": 4,
 "nbformat_minor": 5
}
