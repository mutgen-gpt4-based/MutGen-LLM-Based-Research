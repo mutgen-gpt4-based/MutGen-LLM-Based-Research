{
 "cells": [
  {
   "cell_type": "code",
   "execution_count": 2,
   "id": "f1726345",
   "metadata": {},
   "outputs": [],
   "source": [
    "import sys\n",
    "sys.path.append(\"../\")\n",
    "from agents.RAG_agent import agent_rag_chained\n",
    "from prompts.human_request_prompt import USER_PROMPT\n",
    "import pandas as pd"
   ]
  },
  {
   "cell_type": "code",
   "execution_count": 3,
   "id": "b71780b4",
   "metadata": {},
   "outputs": [
    {
     "name": "stdout",
     "output_type": "stream",
     "text": [
      "OpenAI API loaded.\n"
     ]
    }
   ],
   "source": [
    "EXCEL_MUT_OP_PATH = '../agents/my_files/mut_op_java_file.xlsx'\n",
    "agent = agent_rag_chained(EXCEL_MUT_OP_PATH)"
   ]
  },
  {
   "cell_type": "code",
   "execution_count": 4,
   "id": "18964726",
   "metadata": {},
   "outputs": [],
   "source": [
    "df = pd.read_csv(\"dataset_C4_clean.csv\")"
   ]
  },
  {
   "cell_type": "code",
   "execution_count": 5,
   "id": "161b1304",
   "metadata": {},
   "outputs": [
    {
     "data": {
      "text/html": [
       "<div>\n",
       "<style scoped>\n",
       "    .dataframe tbody tr th:only-of-type {\n",
       "        vertical-align: middle;\n",
       "    }\n",
       "\n",
       "    .dataframe tbody tr th {\n",
       "        vertical-align: top;\n",
       "    }\n",
       "\n",
       "    .dataframe thead th {\n",
       "        text-align: right;\n",
       "    }\n",
       "</style>\n",
       "<table border=\"1\" class=\"dataframe\">\n",
       "  <thead>\n",
       "    <tr style=\"text-align: right;\">\n",
       "      <th></th>\n",
       "      <th>fixed</th>\n",
       "      <th>buggy</th>\n",
       "      <th>baseline_ast_gumtree</th>\n",
       "      <th>line_id_tp_dataset</th>\n",
       "    </tr>\n",
       "  </thead>\n",
       "  <tbody>\n",
       "    <tr>\n",
       "      <th>0</th>\n",
       "      <td>private void METHOD_1 ( java.lang.String msg ,...</td>\n",
       "      <td>private void METHOD_1 ( java.lang.String msg ,...</td>\n",
       "      <td>['Move BinaryOperator', 'Move VariableRead', '...</td>\n",
       "      <td>1</td>\n",
       "    </tr>\n",
       "    <tr>\n",
       "      <th>1</th>\n",
       "      <td>private static float METHOD_1 ( float VAR_1 , ...</td>\n",
       "      <td>private static float METHOD_1 ( float VAR_1 , ...</td>\n",
       "      <td>['Move BinaryOperator', 'Delete VariableRead',...</td>\n",
       "      <td>2</td>\n",
       "    </tr>\n",
       "  </tbody>\n",
       "</table>\n",
       "</div>"
      ],
      "text/plain": [
       "                                               fixed  \\\n",
       "0  private void METHOD_1 ( java.lang.String msg ,...   \n",
       "1  private static float METHOD_1 ( float VAR_1 , ...   \n",
       "\n",
       "                                               buggy  \\\n",
       "0  private void METHOD_1 ( java.lang.String msg ,...   \n",
       "1  private static float METHOD_1 ( float VAR_1 , ...   \n",
       "\n",
       "                                baseline_ast_gumtree  line_id_tp_dataset  \n",
       "0  ['Move BinaryOperator', 'Move VariableRead', '...                   1  \n",
       "1  ['Move BinaryOperator', 'Delete VariableRead',...                   2  "
      ]
     },
     "execution_count": 5,
     "metadata": {},
     "output_type": "execute_result"
    }
   ],
   "source": [
    "df.head(2)"
   ]
  },
  {
   "cell_type": "code",
   "execution_count": 88,
   "id": "188a185a",
   "metadata": {},
   "outputs": [
    {
     "name": "stdout",
     "output_type": "stream",
     "text": [
      "public void METHOD_1 ( ) { TYPE_1 VAR_1 = new TYPE_1 ( ) ; if ( ( VAR_2 ) != null ) { VAR_1 = VAR_3 ; } METHOD_1 ( VAR_1 ) ; VAR_4 . METHOD_2 ( VAR_1 ) ; }\n",
      "public void METHOD_1 ( ) { TYPE_1 VAR_1 = new TYPE_1 ( ) ; if ( ( VAR_2 ) != null ) { VAR_1 = VAR_4 ; } else { } METHOD_1 ( VAR_1 ) ; }\n",
      "['Insert Block', 'Update FieldRead', 'Delete TypeAccess', 'Delete VariableRead', 'Delete Invocation']\n",
      "2486\n"
     ]
    }
   ],
   "source": [
    "index = 1884\n",
    "print(df[\"fixed\"].iloc[index])\n",
    "print(df[\"buggy\"].iloc[index])\n",
    "print(df[\"baseline_ast_gumtree\"].iloc[index])\n",
    "print(df[\"line_id_tp_dataset\"].iloc[index])"
   ]
  },
  {
   "cell_type": "code",
   "execution_count": 89,
   "id": "e71dc55b",
   "metadata": {},
   "outputs": [
    {
     "data": {
      "text/plain": [
       "'[Update VariableRead; Insert Wra; Delete Invocation]'"
      ]
     },
     "execution_count": 89,
     "metadata": {},
     "output_type": "execute_result"
    }
   ],
   "source": [
    "prompt = USER_PROMPT.format(fixed_code=df[\"fixed\"].iloc[index], buggy_code=df[\"buggy\"].iloc[index])\n",
    "results = agent.invoke({\"question\": prompt, \"chat_history\": []})\n",
    "results[\"answer\"]"
   ]
  },
  {
   "cell_type": "code",
   "execution_count": null,
   "id": "2da86e9c",
   "metadata": {},
   "outputs": [],
   "source": []
  },
  {
   "cell_type": "code",
   "execution_count": null,
   "id": "21084ee4",
   "metadata": {},
   "outputs": [],
   "source": []
  }
 ],
 "metadata": {
  "kernelspec": {
   "display_name": "_venv",
   "language": "python",
   "name": "python3"
  },
  "language_info": {
   "codemirror_mode": {
    "name": "ipython",
    "version": 3
   },
   "file_extension": ".py",
   "mimetype": "text/x-python",
   "name": "python",
   "nbconvert_exporter": "python",
   "pygments_lexer": "ipython3",
   "version": "3.11.3"
  }
 },
 "nbformat": 4,
 "nbformat_minor": 5
}
