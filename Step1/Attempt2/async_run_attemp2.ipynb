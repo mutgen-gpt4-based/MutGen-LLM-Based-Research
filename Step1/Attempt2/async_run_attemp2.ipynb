{
 "cells": [
  {
   "cell_type": "code",
   "execution_count": 1,
   "id": "706bb16a",
   "metadata": {},
   "outputs": [],
   "source": [
    "from prompts.human_request_prompt import USER_PROMPT\n",
    "from dotenv import load_dotenv, find_dotenv\n",
    "from states.MainStateAsync import MainState, TpByAgent\n",
    "from langgraph.graph import START, StateGraph, END\n",
    "import os\n",
    "import pandas as pd\n",
    "# import time\n",
    "from IPython.display import Image, display\n",
    "from langgraph.constants import Send\n",
    "# from pydantic import BaseModel\n",
    "\n",
    "from agents.RAG_agent  import agent_rag_chained"
   ]
  },
  {
   "cell_type": "code",
   "execution_count": 2,
   "id": "dfcedc20",
   "metadata": {},
   "outputs": [
    {
     "name": "stdout",
     "output_type": "stream",
     "text": [
      "OpenAI API loaded.\n"
     ]
    }
   ],
   "source": [
    "_ = load_dotenv(find_dotenv())\n",
    "\n",
    "api_openai = os.getenv('OPENAI_API_KEY')\n",
    "if api_openai:\n",
    "    print('OpenAI API loaded.')\n",
    "else:\n",
    "    print('missing api key: OPEN_API_KEY')"
   ]
  },
  {
   "cell_type": "code",
   "execution_count": 3,
   "id": "6bd419c3",
   "metadata": {},
   "outputs": [
    {
     "name": "stdout",
     "output_type": "stream",
     "text": [
      "OpenAI API loaded.\n"
     ]
    }
   ],
   "source": [
    "EXCEL_MUT_OP_PATH = 'agents/my_files/mut_op_java_file.xlsx'\n",
    "agent = agent_rag_chained(EXCEL_MUT_OP_PATH)"
   ]
  },
  {
   "cell_type": "code",
   "execution_count": 4,
   "id": "c532d467",
   "metadata": {},
   "outputs": [],
   "source": [
    "def process_data_cluster(state: MainState):\n",
    "    cluster_path = state[\"cluster_url\"]\n",
    "    cluster_id = state[\"cluster\"]\n",
    "    df = pd.read_csv(cluster_path)\n",
    "    try:\n",
    "        final_result_df = pd.read_csv(f\"results_{cluster_id}_from_attempt2.csv\")\n",
    "    except:\n",
    "        final_result_df = pd.DataFrame()\n",
    "    return {\"dataframe\": df, \"total_requests_from_df\": len(df), \"final_result_df\": final_result_df}"
   ]
  },
  {
   "cell_type": "code",
   "execution_count": 5,
   "id": "645a36e0",
   "metadata": {},
   "outputs": [],
   "source": [
    "def split_data_process_for_batch(state: MainState):\n",
    "    if state[\"gpt_response\"]: # block to save current dataframe\n",
    "        final_result_df = state[\"final_result_df\"]\n",
    "        cluster_id = state[\"cluster\"]\n",
    "        list_of_pydantic_objects = state[\"gpt_response\"]\n",
    "        results_as_dicts = [response.model_dump() for response in list_of_pydantic_objects]\n",
    "        results_df = pd.DataFrame(results_as_dicts)\n",
    "        updated_df = pd.concat([final_result_df, results_df], ignore_index=True)\n",
    "\n",
    "        output_path = f\"results_{cluster_id}_from_attempt2.csv\"\n",
    "        updated_df.to_csv(output_path, sep=',', index=False)\n",
    "\n",
    "\n",
    "    df = state[\"dataframe\"]\n",
    "    offset = state[\"current_offset\"]\n",
    "    size = 15\n",
    "    total_prompts = state[\"total_requests_from_df\"]\n",
    "    start_index = offset + size\n",
    "    limit_index = min(start_index, total_prompts)\n",
    "    \n",
    "    sliced_df = df.iloc[offset:limit_index]\n",
    "    print(f\"processing {offset} to {start_index} out of {total_prompts}\")\n",
    "    return {\n",
    "        \"sliced_for_batch\": sliced_df, \n",
    "        \"current_offset\": limit_index     \n",
    "        }\n"
   ]
  },
  {
   "cell_type": "code",
   "execution_count": 6,
   "id": "b945ec6e",
   "metadata": {},
   "outputs": [],
   "source": [
    "def async_send_conditional(state: MainState):\n",
    "    async_list = []\n",
    "    df_sliced = state[\"sliced_for_batch\"]\n",
    "    for _, row in df_sliced.iterrows():\n",
    "        async_list.append(Send(\"Run Agent\", {\"tp_request\": row}))\n",
    "    return async_list"
   ]
  },
  {
   "cell_type": "code",
   "execution_count": 7,
   "id": "eff33a43",
   "metadata": {},
   "outputs": [],
   "source": [
    "def agent_attempt_2(state: MainState):\n",
    "    row_from_df = state[\"tp_request\"]\n",
    "    fixed = row_from_df.fixed # str\n",
    "    buggy = row_from_df.buggy # str\n",
    "    baseline = row_from_df.baseline_ast_gumtree # int\n",
    "    line_id = row_from_df.line_id_tp_dataset # list\n",
    "\n",
    "    human_prompt = USER_PROMPT.format(fixed_code=fixed, buggy_code=buggy)\n",
    "    llm_nodes_modification = agent.invoke({\"question\": human_prompt, \"chat_history\": []})\n",
    "    final_response = TpByAgent(fixed_code = fixed, \n",
    "                               buggy_code = buggy, \n",
    "                               gumtree_baseline = baseline, \n",
    "                               line_in_dataset = line_id, \n",
    "                               gpt_attempt1 = llm_nodes_modification['answer'])\n",
    "\n",
    "    return {\"gpt_response\": [final_response]}\n",
    "    "
   ]
  },
  {
   "cell_type": "code",
   "execution_count": 8,
   "id": "9c0b33f0",
   "metadata": {},
   "outputs": [],
   "source": [
    "def loop_batch_conditional(state:MainState):\n",
    "    offset = state[\"current_offset\"]\n",
    "    total_requests = state[\"total_requests_from_df\"]\n",
    "    if offset >= total_requests:\n",
    "        return \"Save DF\"\n",
    "    return \"Batch Slicing\"\n"
   ]
  },
  {
   "cell_type": "code",
   "execution_count": 9,
   "id": "0d2cdd42",
   "metadata": {},
   "outputs": [],
   "source": [
    "def save_dataframe(state: MainState):\n",
    "    \"\"\"\n",
    "    Pega a lista de objetos Pydantic do estado, converte para um DataFrame\n",
    "    e salva em um arquivo CSV.\n",
    "    \"\"\"\n",
    "    cluster_id = state[\"cluster\"]\n",
    "    list_of_pydantic_objects = state[\"gpt_response\"]\n",
    "\n",
    "    if not list_of_pydantic_objects:\n",
    "        print(\"Nenhum resultado para salvar.\")\n",
    "        return {}\n",
    "\n",
    "    final_result_df = state[\"final_result_df\"]\n",
    "    results_as_dicts = [response.model_dump() for response in list_of_pydantic_objects]\n",
    "    results_df = pd.DataFrame(results_as_dicts)\n",
    "    updated_df = pd.concat([final_result_df, results_df], ignore_index=True)\n",
    "\n",
    "    output_path = f\"results_{cluster_id}_from_attempt2.csv\"\n",
    "    updated_df.to_csv(output_path, sep=',', index=False)\n",
    "    \n",
    "    print(f\"Resultados salvos com sucesso em {output_path}\")\n",
    "\n",
    "    return {\"pd.DataFrame\": updated_df}\n",
    "    "
   ]
  },
  {
   "cell_type": "code",
   "execution_count": 10,
   "id": "d69c322b",
   "metadata": {},
   "outputs": [
    {
     "data": {
      "image/png": "[encoded data removed]",
      "text/plain": [
       "<IPython.core.display.Image object>"
      ]
     },
     "metadata": {},
     "output_type": "display_data"
    }
   ],
   "source": [
    "builder = StateGraph(MainState)\n",
    "\n",
    "builder.add_node(\"Load and Clean data\", process_data_cluster)\n",
    "builder.add_node(\"Batch Slicing\", split_data_process_for_batch)\n",
    "builder.add_node(\"Run Agent\", agent_attempt_2)\n",
    "builder.add_node(\"Save DF\", save_dataframe)\n",
    "\n",
    "builder.add_edge(START, \"Load and Clean data\")\n",
    "builder.add_edge(\"Load and Clean data\", \"Batch Slicing\")\n",
    "builder.add_conditional_edges(\"Batch Slicing\", async_send_conditional, [\"Run Agent\"])\n",
    "\n",
    "builder.add_conditional_edges(\"Run Agent\", \n",
    "                              loop_batch_conditional, \n",
    "                              {\n",
    "                                  \"Save DF\": \"Save DF\",\n",
    "                                  \"Batch Slicing\": \"Batch Slicing\"\n",
    "                              })\n",
    "builder.add_edge(\"Save DF\", END)\n",
    "\n",
    "graph_execute = builder.compile()\n",
    "display(Image(graph_execute.get_graph(xray=True).draw_mermaid_png()))"
   ]
  },
  {
   "cell_type": "code",
   "execution_count": 14,
   "id": "720ee4fe",
   "metadata": {},
   "outputs": [
    {
     "name": "stdout",
     "output_type": "stream",
     "text": [
      "processing 0 to 15 out of 803\n",
      "processing 15 to 30 out of 803\n",
      "processing 30 to 45 out of 803\n",
      "processing 45 to 60 out of 803\n",
      "processing 60 to 75 out of 803\n",
      "processing 75 to 90 out of 803\n",
      "processing 90 to 105 out of 803\n",
      "processing 105 to 120 out of 803\n",
      "processing 120 to 135 out of 803\n",
      "processing 135 to 150 out of 803\n",
      "processing 150 to 165 out of 803\n",
      "processing 165 to 180 out of 803\n",
      "processing 180 to 195 out of 803\n",
      "processing 195 to 210 out of 803\n",
      "processing 210 to 225 out of 803\n",
      "processing 225 to 240 out of 803\n",
      "processing 240 to 255 out of 803\n",
      "processing 255 to 270 out of 803\n",
      "processing 270 to 285 out of 803\n",
      "processing 285 to 300 out of 803\n",
      "processing 300 to 315 out of 803\n",
      "processing 315 to 330 out of 803\n",
      "processing 330 to 345 out of 803\n",
      "processing 345 to 360 out of 803\n",
      "processing 360 to 375 out of 803\n",
      "processing 375 to 390 out of 803\n",
      "processing 390 to 405 out of 803\n",
      "processing 405 to 420 out of 803\n",
      "processing 420 to 435 out of 803\n",
      "processing 435 to 450 out of 803\n",
      "processing 450 to 465 out of 803\n",
      "processing 465 to 480 out of 803\n",
      "processing 480 to 495 out of 803\n",
      "processing 495 to 510 out of 803\n",
      "processing 510 to 525 out of 803\n",
      "processing 525 to 540 out of 803\n",
      "processing 540 to 555 out of 803\n",
      "processing 555 to 570 out of 803\n",
      "processing 570 to 585 out of 803\n",
      "processing 585 to 600 out of 803\n",
      "processing 600 to 615 out of 803\n",
      "processing 615 to 630 out of 803\n",
      "processing 630 to 645 out of 803\n",
      "processing 645 to 660 out of 803\n",
      "processing 660 to 675 out of 803\n",
      "processing 675 to 690 out of 803\n",
      "processing 690 to 705 out of 803\n",
      "processing 705 to 720 out of 803\n",
      "processing 720 to 735 out of 803\n",
      "processing 735 to 750 out of 803\n",
      "processing 750 to 765 out of 803\n",
      "processing 765 to 780 out of 803\n",
      "processing 780 to 795 out of 803\n",
      "processing 795 to 810 out of 803\n",
      "Resultados salvos com sucesso em results_C5_from_attempt2.csv\n"
     ]
    }
   ],
   "source": [
    "init_input = {\n",
    "    \"cluster\": \"C5\",\n",
    "    \"cluster_url\": \"datasets_csv/dataset_C5_clean.csv\",\n",
    "    \"current_offset\": 0  # C\n",
    "}\n",
    "\n",
    "config = {\"recursion_limit\": 800}\n",
    "messages = graph_execute.invoke(init_input, config)"
   ]
  },
  {
   "cell_type": "markdown",
   "id": "029a98f1",
   "metadata": {},
   "source": []
  },
  {
   "cell_type": "code",
   "execution_count": 12,
   "id": "cc626f52",
   "metadata": {},
   "outputs": [],
   "source": [
    "df = pd.read_csv(\"results_C4_from_attempt2.csv\")"
   ]
  },
  {
   "cell_type": "code",
   "execution_count": 13,
   "id": "e4d61fc0",
   "metadata": {},
   "outputs": [],
   "source": [
    "df.to_excel(\"results_C4_from_attempt2.xlsx\")"
   ]
  },
  {
   "cell_type": "code",
   "execution_count": null,
   "id": "8fefda10",
   "metadata": {},
   "outputs": [],
   "source": []
  },
  {
   "cell_type": "code",
   "execution_count": null,
   "id": "07ef4dc2",
   "metadata": {},
   "outputs": [],
   "source": []
  },
  {
   "cell_type": "code",
   "execution_count": null,
   "id": "e7c5cd3f",
   "metadata": {},
   "outputs": [],
   "source": []
  }
 ],
 "metadata": {
  "kernelspec": {
   "display_name": "_venv",
   "language": "python",
   "name": "python3"
  },
  "language_info": {
   "codemirror_mode": {
    "name": "ipython",
    "version": 3
   },
   "file_extension": ".py",
   "mimetype": "text/x-python",
   "name": "python",
   "nbconvert_exporter": "python",
   "pygments_lexer": "ipython3",
   "version": "3.11.3"
  }
 },
 "nbformat": 4,
 "nbformat_minor": 5
}
